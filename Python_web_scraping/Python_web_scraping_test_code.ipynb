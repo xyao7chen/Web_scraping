{
 "cells": [
  {
   "cell_type": "markdown",
   "metadata": {},
   "source": [
    "## P1"
   ]
  },
  {
   "cell_type": "code",
   "execution_count": 24,
   "metadata": {},
   "outputs": [],
   "source": [
    "import requests"
   ]
  },
  {
   "cell_type": "code",
   "execution_count": 25,
   "metadata": {},
   "outputs": [],
   "source": [
    "r = requests.get(\"http://www.baidu.com\")"
   ]
  },
  {
   "cell_type": "code",
   "execution_count": 29,
   "metadata": {},
   "outputs": [
    {
     "data": {
      "text/plain": [
       "requests.models.Response"
      ]
     },
     "execution_count": 29,
     "metadata": {},
     "output_type": "execute_result"
    }
   ],
   "source": [
    "type(r)"
   ]
  },
  {
   "cell_type": "code",
   "execution_count": 26,
   "metadata": {},
   "outputs": [
    {
     "data": {
      "text/plain": [
       "200"
      ]
     },
     "execution_count": 26,
     "metadata": {},
     "output_type": "execute_result"
    }
   ],
   "source": [
    "r.status_code\n",
    "# 2O0 means successul visit request"
   ]
  },
  {
   "cell_type": "code",
   "execution_count": 27,
   "metadata": {},
   "outputs": [],
   "source": [
    "r.encoding ='utf-8'"
   ]
  },
  {
   "cell_type": "code",
   "execution_count": 28,
   "metadata": {},
   "outputs": [
    {
     "data": {
      "text/plain": [
       "'<!DOCTYPE html>\\r\\n<!--STATUS OK--><html> <head><meta http-equiv=content-type content=text/html;charset=utf-8><meta http-equiv=X-UA-Compatible content=IE=Edge><meta content=always name=referrer><link rel=stylesheet type=text/css href=http://s1.bdstatic.com/r/www/cache/bdorz/baidu.min.css><title>百度一下，你就知道</title></head> <body link=#0000cc> <div id=wrapper> <div id=head> <div class=head_wrapper> <div class=s_form> <div class=s_form_wrapper> <div id=lg> <img hidefocus=true src=//www.baidu.com/img/bd_logo1.png width=270 height=129> </div> <form id=form name=f action=//www.baidu.com/s class=fm> <input type=hidden name=bdorz_come value=1> <input type=hidden name=ie value=utf-8> <input type=hidden name=f value=8> <input type=hidden name=rsv_bp value=1> <input type=hidden name=rsv_idx value=1> <input type=hidden name=tn value=baidu><span class=\"bg s_ipt_wr\"><input id=kw name=wd class=s_ipt value maxlength=255 autocomplete=off autofocus></span><span class=\"bg s_btn_wr\"><input type=submit id=su value=百度一下 class=\"bg s_btn\"></span> </form> </div> </div> <div id=u1> <a href=http://news.baidu.com name=tj_trnews class=mnav>新闻</a> <a href=http://www.hao123.com name=tj_trhao123 class=mnav>hao123</a> <a href=http://map.baidu.com name=tj_trmap class=mnav>地图</a> <a href=http://v.baidu.com name=tj_trvideo class=mnav>视频</a> <a href=http://tieba.baidu.com name=tj_trtieba class=mnav>贴吧</a> <noscript> <a href=http://www.baidu.com/bdorz/login.gif?login&amp;tpl=mn&amp;u=http%3A%2F%2Fwww.baidu.com%2f%3fbdorz_come%3d1 name=tj_login class=lb>登录</a> </noscript> <script>document.write(\\'<a href=\"http://www.baidu.com/bdorz/login.gif?login&tpl=mn&u=\\'+ encodeURIComponent(window.location.href+ (window.location.search === \"\" ? \"?\" : \"&\")+ \"bdorz_come=1\")+ \\'\" name=\"tj_login\" class=\"lb\">登录</a>\\');</script> <a href=//www.baidu.com/more/ name=tj_briicon class=bri style=\"display: block;\">更多产品</a> </div> </div> </div> <div id=ftCon> <div id=ftConw> <p id=lh> <a href=http://home.baidu.com>关于百度</a> <a href=http://ir.baidu.com>About Baidu</a> </p> <p id=cp>&copy;2017&nbsp;Baidu&nbsp;<a href=http://www.baidu.com/duty/>使用百度前必读</a>&nbsp; <a href=http://jianyi.baidu.com/ class=cp-feedback>意见反馈</a>&nbsp;京ICP证030173号&nbsp; <img src=//www.baidu.com/img/gs.gif> </p> </div> </div> </div> </body> </html>\\r\\n'"
      ]
     },
     "execution_count": 28,
     "metadata": {},
     "output_type": "execute_result"
    }
   ],
   "source": [
    "r.text"
   ]
  },
  {
   "cell_type": "code",
   "execution_count": 30,
   "metadata": {},
   "outputs": [
    {
     "data": {
      "text/plain": [
       "b'<!DOCTYPE html>\\r\\n<!--STATUS OK--><html> <head><meta http-equiv=content-type content=text/html;charset=utf-8><meta http-equiv=X-UA-Compatible content=IE=Edge><meta content=always name=referrer><link rel=stylesheet type=text/css href=http://s1.bdstatic.com/r/www/cache/bdorz/baidu.min.css><title>\\xe7\\x99\\xbe\\xe5\\xba\\xa6\\xe4\\xb8\\x80\\xe4\\xb8\\x8b\\xef\\xbc\\x8c\\xe4\\xbd\\xa0\\xe5\\xb0\\xb1\\xe7\\x9f\\xa5\\xe9\\x81\\x93</title></head> <body link=#0000cc> <div id=wrapper> <div id=head> <div class=head_wrapper> <div class=s_form> <div class=s_form_wrapper> <div id=lg> <img hidefocus=true src=//www.baidu.com/img/bd_logo1.png width=270 height=129> </div> <form id=form name=f action=//www.baidu.com/s class=fm> <input type=hidden name=bdorz_come value=1> <input type=hidden name=ie value=utf-8> <input type=hidden name=f value=8> <input type=hidden name=rsv_bp value=1> <input type=hidden name=rsv_idx value=1> <input type=hidden name=tn value=baidu><span class=\"bg s_ipt_wr\"><input id=kw name=wd class=s_ipt value maxlength=255 autocomplete=off autofocus></span><span class=\"bg s_btn_wr\"><input type=submit id=su value=\\xe7\\x99\\xbe\\xe5\\xba\\xa6\\xe4\\xb8\\x80\\xe4\\xb8\\x8b class=\"bg s_btn\"></span> </form> </div> </div> <div id=u1> <a href=http://news.baidu.com name=tj_trnews class=mnav>\\xe6\\x96\\xb0\\xe9\\x97\\xbb</a> <a href=http://www.hao123.com name=tj_trhao123 class=mnav>hao123</a> <a href=http://map.baidu.com name=tj_trmap class=mnav>\\xe5\\x9c\\xb0\\xe5\\x9b\\xbe</a> <a href=http://v.baidu.com name=tj_trvideo class=mnav>\\xe8\\xa7\\x86\\xe9\\xa2\\x91</a> <a href=http://tieba.baidu.com name=tj_trtieba class=mnav>\\xe8\\xb4\\xb4\\xe5\\x90\\xa7</a> <noscript> <a href=http://www.baidu.com/bdorz/login.gif?login&amp;tpl=mn&amp;u=http%3A%2F%2Fwww.baidu.com%2f%3fbdorz_come%3d1 name=tj_login class=lb>\\xe7\\x99\\xbb\\xe5\\xbd\\x95</a> </noscript> <script>document.write(\\'<a href=\"http://www.baidu.com/bdorz/login.gif?login&tpl=mn&u=\\'+ encodeURIComponent(window.location.href+ (window.location.search === \"\" ? \"?\" : \"&\")+ \"bdorz_come=1\")+ \\'\" name=\"tj_login\" class=\"lb\">\\xe7\\x99\\xbb\\xe5\\xbd\\x95</a>\\');</script> <a href=//www.baidu.com/more/ name=tj_briicon class=bri style=\"display: block;\">\\xe6\\x9b\\xb4\\xe5\\xa4\\x9a\\xe4\\xba\\xa7\\xe5\\x93\\x81</a> </div> </div> </div> <div id=ftCon> <div id=ftConw> <p id=lh> <a href=http://home.baidu.com>\\xe5\\x85\\xb3\\xe4\\xba\\x8e\\xe7\\x99\\xbe\\xe5\\xba\\xa6</a> <a href=http://ir.baidu.com>About Baidu</a> </p> <p id=cp>&copy;2017&nbsp;Baidu&nbsp;<a href=http://www.baidu.com/duty/>\\xe4\\xbd\\xbf\\xe7\\x94\\xa8\\xe7\\x99\\xbe\\xe5\\xba\\xa6\\xe5\\x89\\x8d\\xe5\\xbf\\x85\\xe8\\xaf\\xbb</a>&nbsp; <a href=http://jianyi.baidu.com/ class=cp-feedback>\\xe6\\x84\\x8f\\xe8\\xa7\\x81\\xe5\\x8f\\x8d\\xe9\\xa6\\x88</a>&nbsp;\\xe4\\xba\\xacICP\\xe8\\xaf\\x81030173\\xe5\\x8f\\xb7&nbsp; <img src=//www.baidu.com/img/gs.gif> </p> </div> </div> </div> </body> </html>\\r\\n'"
      ]
     },
     "execution_count": 30,
     "metadata": {},
     "output_type": "execute_result"
    }
   ],
   "source": [
    "r.content"
   ]
  },
  {
   "cell_type": "markdown",
   "metadata": {},
   "source": [
    "## P5"
   ]
  },
  {
   "cell_type": "code",
   "execution_count": 12,
   "metadata": {},
   "outputs": [
    {
     "data": {
      "text/plain": [
       "'\\n <!DOCTYPE HTML>\\n<html lang=\"zh-CN\">\\n<head>\\n    <meta charset=\"UTF-8\">\\n\\n    <meta name=\"google-site-verification\" content=\"GkJ68PCnxM9Ih7Zm9v8p91FOCV7ymNCO2KdGbflLh3E\">\\n    <meta name=\"360-site-verification\" content=\"dd6547587641bfede036f7c79561e8a0\">\\n    <meta name=\"shenma-site-verification\" content=\"fd96cf3751972c9b05f8471d2ccadddc_1496951214\">\\n    <meta name=\"msvalidate.01\" content=\"1D38B05050A977F6FDEDA481198343F1\">\\n    <meta name=\"sogou_site_verification\" content=\"MpPsku240L\">\\n\\n  \\n    <title>芋道源码 —— 纯源码解析博客</title>\\n    <meta name=\"viewport\" content=\"width=device-width, initial-scale=1, maximum-scale=3, minimum-scale=1\">\\n    \\n    <meta name=\"author\" content=\"芋道源码\">\\n    \\n    <meta name=\"description\" content=\"愿半生编码，如一生老友！读源码是很小众的需求，希望在你需要的时候，不会孤单！\">\\n    \\n\\n    \\n    <meta name=\"keywords\" content=\"Java,架构,后端,服务端,RocketMQ,MyCAT,分布式消息队列,分布式存储,技术博客,Sharding-JDBC,分库分表\">\\n    \\n\\n    \\n    \\n    <link rel=\"alternate\" href=\"atom.xml\" title=\"芋道源码 —— 纯源码解析博客\" type=\"application/atom+xml\">\\n    \\n    \\n    <link rel=\"icon\" href=\"/images/favicon.ico\">\\n    \\n    \\n    <link rel=\"stylesheet\" href=\"/css/style.css\">\\n    \\n    <script>\\n        var _hmt = _hmt || [];\\n        (function() {\\n            var hm = document.createElement(\"script\");\\n            var _bdId =\\'9e70e3362807c1bd185a79655b307027\\';\\n             hm.src = \"//hm.baidu.com/hm.js?\" + _bdId;\\n             var s = document.getElementsByTagName(\"script\")[0];\\n             s.parentNode.insertBefore(hm, s);\\n        })();\\n    </script>\\n    \\n\\n    <!-- 百度站长-被动推送 -->\\n    <script>\\n        (function(){\\n            var bp = document.createElement(\\'script\\');\\n            var curProtocol = window.location.protocol.split(\\':\\')[0];\\n            if (curProtocol === \\'https\\') {\\n                bp.src = \\'https://zz.bdstatic.com/linksubmit/push.js\\';\\n            }\\n            else {\\n                bp.src = \\'http://push.zhanzhang.baidu.com/push.js\\';\\n            }\\n            var s = document.getElementsByTagName(\"script\")[0];\\n            s.parentNode.insertBefore(bp, s);\\n        })();\\n    </script>\\n\\n    <!-- 360搜索-自动收录 -->\\n    <script>\\n        (function(){\\n            var src = (document.location.protocol == \"http:\") ? \"http://js.passport.qihucdn.com/11.0.1.js?f05b61dd54bbc38386611a5238672938\":\"https://jspassport.ssl.qhimg.com/11.0.1.js?f05b61dd54bbc38386611a5238672938\";\\n            document.write(\\'<script src=\"\\' + src + \\'\" id=\"sozz\"><\\\\/script>\\');\\n        })();\\n    </script>\\n\\n    <!-- 不蒜子统计 -->\\n    <script async src=\"//busuanzi.ibruce.info/busuanzi/2.3/busuanzi.pure.mini.js\"></script>\\n    <!-- 弹窗 -->\\n    <link rel=\"stylesheet\" href=\"/alert/css/alert.css\">\\n    <script src=\"/alert/js/alert.js\"></script>\\n    <link rel=\"stylesheet\" href=\"/answer/answer.css\">\\n    <script src=\"/answer/answer.js\"></script>\\n    <!-- JQuery -->\\n    <script src=\"/js/jquery-2.1.0.min.js\"></script>\\n    <!-- JS COOKIE -->\\n    <script src=\"/js/jquery.cookie.js\"></script>\\n</head>\\n</html>\\n  <body>\\n    <header>\\n      <div>\\n    \\n    <div id=\"textlogo\">\\n        <h1 class=\"site-name\"><a href=\"/\" title=\"芋道源码 —— 纯源码解析博客\">芋道源码 —— 纯源码解析博客</a></h1>\\n        <a class=\"blog-motto\">\\n            \\n            愿半生编码，如一生老友！\\n            \\n        </a>\\n    </div>\\n    <div class=\"navbar\"><a class=\"navbutton navmobile\" href=\"#\" title=\"菜单\">\\n        </a></div>\\n    <nav class=\"animated\">\\n        <ul>\\n            <ul>\\n                \\n                <li><a href=\"/\">文章</a></li>\\n                \\n                <li><a href=\"/zhishixingqiu\">知识星球</a></li>\\n                \\n                <li><a href=\"https://github.com/YunaiV\" rel=\"external nofollow noopener noreferrer\" target=\"_blank\">Github</a></li>\\n                \\n                <li><a href=\"http://www.iocoder.cn/images/common/wechat_mp_2017_07_31_bak.jpg\">微信公众号</a></li>\\n                \\n                <li><a href=\"/categories/%E5%B7%A5%E4%BD%9C%E5%86%85%E6%8E%A8/\">工作内推</a></li>\\n                \\n                <li><a href=\"/link_url\">友链</a></li>\\n                \\n                <li><a href=\"https://shimo.im/docs/QVpdQgGjVHtrv69w/\" rel=\"external nofollow noopener noreferrer\" target=\"_blank\">大厂面试必备</a></li>\\n                \\n                <li><a href=\"http://www.iocoder.cn/zhishixingqiu?top\">Java 超神之路</a></li>\\n                \\n                <!--<li>-->\\n                    <!---->\\n                        <!--<form class=\"search\" action=\"//google.com/search\" method=\"get\" accept-charset=\"utf-8\">-->\\n                            <!--<label>Search</label>-->\\n                            <!--<input type=\"text\" id=\"search\" name=\"q\" autocomplete=\"off\" maxlength=\"20\"-->\\n                                   <!--placeholder=\"搜索\"/>-->\\n                            <!--<input type=\"hidden\" name=\"q\" value=\"site:www.iocoder.cn\">-->\\n                        <!--</form>-->\\n                        <!---->\\n                <!--</li>-->\\n            </ul>\\n    </ul></nav>\\n</div>\\n\\n    </header>\\n    <div id=\"container\">\\n      \\n\\n<!--<div class=\"archive-title\" >-->\\n  <!--<h2 class=\"-icon\"></h2>-->\\n  <!---->\\n<!--</div>-->\\n\\n<div id=\"main\" class=\"archive-part clearfix\">\\n  <div id=\"archive-page\">\\n\\n      <section class=\"post\" itemscope=\"\" itemprop=\"blogPost\">\\n          <a href=\"/Architecture/how-to-read-source-code/\" title=\"闲聊如何阅读源码\" itemprop=\"url\" target=\"_blank\">\\n              <time itemprop=\"datePublished\" class=\"delete-at-mobile\">\\n                  源码阅读\\n              </time>\\n              <h1 itemprop=\"name\">视频：闲聊如何阅读源码</h1>\\n          </a>\\n      </section>\\n      <section class=\"post\" itemscope=\"\" itemprop=\"blogPost\">\\n                <a href=\"/chinese-comment-repository/\" title=\"中文详细注释的开源项目\" itemprop=\"url\" target=\"_blank\">\\n                    <time itemprop=\"datePublished\" class=\"delete-at-mobile\">\\n                        源码阅读\\n                    </time>\\n                    <h1 itemprop=\"name\">GitHub：中文详细注释的开源项目</h1>\\n                </a>\\n            </section>\\n\\n<!--\\n      <section class=\"post\" itemscope itemprop=\"blogPost\">\\n          <a href=\"/Architecture/how-to-read-article/\" title=\"闲聊如何阅读文章\" itemprop=\"url\" target=\"_blank\">\\n              <time itemprop=\"datePublished\" class=\"delete-at-mobile\">\\n                  你懂的\\n              </time>\\n              <h1 itemprop=\"name\">闲聊如何阅读技术文章</h1>\\n          </a>\\n      </section>\\n\\n-->\\n\\n      <section class=\"post\" itemscope=\"\" itemprop=\"blogPost\">\\n          <a href=\"Architecture/books-recommended/\" title=\"源码圈书单整理\" itemprop=\"url\" target=\"_blank\">\\n              <time itemprop=\"datePublished\" class=\"delete-at-mobile\">\\n                  你懂的\\n              </time>\\n              <h1 itemprop=\"name\">2020 Java 后端工程师的书单推荐</h1>\\n          </a>\\n      </section>\\n\\n        <section class=\"post\" itemscope=\"\" itemprop=\"blogPost\">\\n                  <a href=\"/zhishixingqiu/?666\" title=\"Java 超神之路 2019\" itemprop=\"url\" target=\"_blank\">\\n                      <time style=\"color: red;\" itemprop=\"datePublished\" class=\"delete-at-mobile\">\\n                          VIP 666\\n                      </time>\\n                      <h1 style=\"color: red;\" itemprop=\"name\">Java 超神之路 2019</h1>\\n                  </a>\\n              </section>\\n\\n      <section style=\"margin-bottom: 0.5em;\" class=\"post\" itemscope=\"\" itemprop=\"blogPost\">\\n                <a href=\"/Entity/good-collection/\" title=\"数据库实体设计合集\" itemprop=\"url\" target=\"_blank\">\\n                    <time style=\"color: red;\" itemprop=\"datePublished\" class=\"delete-at-mobile\">\\n                        VIP 233\\n                    </time>\\n                    <h1 style=\"color: red;\" itemprop=\"name\">数据库实体设计合集</h1>\\n                </a>\\n            </section>\\n\\n\\n            <!-- 网关 -->\\n            <section style=\"margin-bottom: 0.5em;width:20%;\" class=\"post\" itemscope=\"\" itemprop=\"blogPost\">\\n                <a href=\"#\" title=\"API 网关\" itemprop=\"url\" target=\"_blank\">\\n                    <time itemprop=\"datePublished\" style=\"display:none\"></time>\\n                    <h1 itemprop=\"name\">API 网关</h1>\\n                </a>\\n            </section>\\n            <section style=\"margin-bottom: 0.5em;width:20%;\" class=\"post\" itemscope=\"\" itemprop=\"blogPost\">\\n                <a href=\"https://dromara.org/website/zh-cn/\" title=\"#\" itemprop=\"url\" target=\"_blank\" rel=\"external nofollow noopener noreferrer\">\\n                    <time itemprop=\"datePublished\">\\n                        Soul\\n                    </time>\\n                    <h1 itemprop=\"name\">&nbsp;</h1>\\n                </a>\\n            </section>\\n            <section style=\"margin-bottom: 0.5em;;width:30%;\" class=\"post\" itemscope=\"\" itemprop=\"blogPost\">\\n                <a href=\"/categories/Spring-Cloud-Gateway/\" title=\"网关 Spring-Cloud-Gateway 源码解析系列\" itemprop=\"url\" target=\"_blank\">\\n                    <time itemprop=\"datePublished\" style=\"width:100%;padding-left:1px;\">Spring Cloud Gateway</time>\\n                    <h1 itemprop=\"name\" style=\"width:0%;\">&nbsp;</h1>\\n                </a>\\n            </section>\\n            <section style=\"margin-bottom: 0.5em;width:20%;\" class=\"post\" itemscope=\"\" itemprop=\"blogPost\">\\n                <a href=\"/Zuul/good-collection/\" title=\"网关 Zuul 源码解析系列\" itemprop=\"url\" target=\"_blank\">\\n                    <time itemprop=\"datePublished\">\\n                        Zuul\\n                    </time>\\n                    <h1 itemprop=\"name\">&nbsp;</h1>\\n                </a>\\n            </section>\\n\\n            <section style=\"margin-bottom: 0.5em;width:10%;\" class=\"post\" itemscope=\"\" itemprop=\"blogPost\">\\n                <a href=\"#\" title=\"#\" itemprop=\"url\" target=\"_blank\">\\n                    <time itemprop=\"datePublished\">\\n                    </time>\\n                    <h1 itemprop=\"name\">&nbsp;</h1>\\n                </a>\\n            </section>\\n\\n\\n            <!-- 服务调用 -->\\n            <section style=\"margin-bottom: 0.5em;width:20%;\" class=\"post\" itemscope=\"\" itemprop=\"blogPost\">\\n                <a href=\"#\" title=\"服务调用\" itemprop=\"url\" target=\"_blank\">\\n                    <time itemprop=\"datePublished\" style=\"display:none\"></time>\\n                    <h1 itemprop=\"name\">服务调用</h1>\\n                </a>\\n            </section>\\n          <section style=\"margin-bottom: 0.5em;width:20%;\" class=\"post\" itemscope=\"\" itemprop=\"blogPost\">\\n              <a href=\"/Dubbo/good-collection/\" title=\"阿里分布式 RPC 服务化框架 Dubbo 源码解析系列\" itemprop=\"url\" target=\"_blank\">\\n                  <time itemprop=\"datePublished\" style=\"color: red;\">\\n                      Dubbo\\n                  </time>\\n                  <h1 itemprop=\"name\">&nbsp;</h1>\\n              </a>\\n          </section>\\n          <section style=\"margin-bottom: 0.5em;width:20%;\" class=\"post\" itemscope=\"\" itemprop=\"blogPost\">\\n              <a href=\"/SOFARPC/good-collection/\" title=\"蚂蚁金服 RPC 服务化框架 SOFA RPC 源码解析系列\" itemprop=\"url\" target=\"_blank\">\\n                  <time itemprop=\"datePublished\">\\n                      SOFA&nbsp;RPC\\n                  </time>\\n                  <h1 itemprop=\"name\">&nbsp;</h1>\\n              </a>\\n          </section>\\n          <section style=\"margin-bottom: 0.5em;width:20%;\" class=\"post\" itemscope=\"\" itemprop=\"blogPost\">\\n                <a href=\"/Motan/good-collection/\" title=\"新浪微博 RPC 服务化框架 Motan 源码解析系列\" itemprop=\"url\" target=\"_blank\">\\n                    <time itemprop=\"datePublished\">\\n                        Motan\\n                    </time>\\n                    <h1 itemprop=\"name\">&nbsp;</h1>\\n                </a>\\n            </section>\\n            <section style=\"margin-bottom: 0.5em;width:20%;\" class=\"post\" itemscope=\"\" itemprop=\"blogPost\">\\n                <a href=\"/Ribbon/good-collection/\" title=\"Netflix 负载均衡框架 Ribbon 源码解析系列\" itemprop=\"url\" target=\"_blank\">\\n                    <time itemprop=\"datePublished\">\\n                        Ribbon\\n                    </time>\\n                    <h1 itemprop=\"name\">&nbsp;</h1>\\n                </a>\\n            </section>\\n\\n\\n            <!-- 消息队列 -->\\n            <section style=\"margin-bottom: 0.5em;width:20%;\" class=\"post\" itemscope=\"\" itemprop=\"blogPost\">\\n                <a href=\"#\" title=\"消息队列\" itemprop=\"url\" target=\"_blank\">\\n                    <time itemprop=\"datePublished\" style=\"display:none\"></time>\\n                    <h1 itemprop=\"name\">消息队列</h1>\\n                </a>\\n            </section>\\n            <section style=\"margin-bottom: 0.5em;width:20%;\" class=\"post\" itemscope=\"\" itemprop=\"blogPost\">\\n                <a href=\"/categories/RocketMQ/\" title=\"阿里分布式消息队列中间件 RocketMQ 源码解析系列\" itemprop=\"url\" target=\"_blank\">\\n                  <time itemprop=\"datePublished\">\\n                      RocketMQ\\n                  </time>\\n                  <h1 itemprop=\"name\">&nbsp;</h1>\\n              </a>\\n            </section>\\n            <section style=\"margin-bottom: 0.5em;width:20%;\" class=\"post\" itemscope=\"\" itemprop=\"blogPost\">\\n                <a href=\"/Kafka/good-collection/\" title=\"分布式消息队列中间件 Kafka 源码解析系列\" itemprop=\"url\" target=\"_blank\">\\n                    <time itemprop=\"datePublished\">\\n                        Kafka\\n                    </time>\\n                    <h1 itemprop=\"name\">&nbsp;</h1>\\n                </a>\\n            </section>\\n            <section style=\"margin-bottom: 0.5em;width:20%;\" class=\"post\" itemscope=\"\" itemprop=\"blogPost\">\\n                <a href=\"/RabbitMQ/good-collection/\" title=\"分布式消息队列中间件 RabbitMQ 源码解析系列\" itemprop=\"url\" target=\"_blank\">\\n                    <time itemprop=\"datePublished\">\\n                        RabbitMQ\\n                    </time>\\n                    <h1 itemprop=\"name\">&nbsp;</h1>\\n                </a>\\n            </section>\\n            <section style=\"margin-bottom: 0.5em;width:20%;\" class=\"post\" itemscope=\"\" itemprop=\"blogPost\">\\n                <a href=\"/ActiveMQ/install/\" title=\"#\" itemprop=\"url\" target=\"_blank\">\\n                    <time itemprop=\"datePublished\">\\n                        ActiveMQ\\n                    </time>\\n                    <h1 itemprop=\"name\">&nbsp;</h1>\\n                </a>\\n            </section>\\n\\n\\n            <!-- 作业调度 -->\\n            <section style=\"margin-bottom: 0.5em;width:20%;\" class=\"post\" itemscope=\"\" itemprop=\"blogPost\">\\n                <a href=\"#\" title=\"作业调度\" itemprop=\"url\" target=\"_blank\">\\n                    <time itemprop=\"datePublished\" style=\"display:none\"></time>\\n                    <h1 itemprop=\"name\">作业调度</h1>\\n                </a>\\n            </section>\\n              <section style=\"margin-bottom: 0.5em;width:20%;\" class=\"post\" itemscope=\"\" itemprop=\"blogPost\">\\n                  <a href=\"/categories/Elastic-Job-Lite/\" title=\"当当分布式作业中间件 Elastic-Job-Lite 源码解析系列\" itemprop=\"url\" target=\"_blank\">\\n                    <time itemprop=\"datePublished\" style=\"width:100%\">\\n                          Elastic Job Lite\\n                      </time>\\n                    <h1 itemprop=\"name\" style=\"width:0%\">&nbsp;</h1>\\n                  </a>\\n              </section>\\n\\n              <section style=\"margin-bottom: 0.5em;width:20%;\" class=\"post\" itemscope=\"\" itemprop=\"blogPost\">\\n                  <a href=\"/categories/Elastic-Job-Cloud/\" title=\"当当分布式作业中间件 Elastic-Job-Cloud 源码解析系列\" itemprop=\"url\" target=\"_blank\">\\n                    <time itemprop=\"datePublished\" style=\"width:100%\">\\n                          Elastic&nbsp;Job&nbsp;Cloud\\n                      </time>\\n                    <h1 itemprop=\"name\" style=\"width:0%\">&nbsp;</h1>\\n                  </a>\\n              </section>\\n                          <section style=\"margin-bottom: 0.5em;width:20%;\" class=\"post\" itemscope=\"\" itemprop=\"blogPost\">\\n                                <a href=\"/Quartz/good-collection/\" title=\"作业调度框架 Quartz 源码解析系列\" itemprop=\"url\" target=\"_blank\">\\n                                  <time itemprop=\"datePublished\">\\n                                      Quartz\\n                                  </time>\\n                                  <h1 itemprop=\"name\" style=\"width:0%\">&nbsp;</h1>\\n                              </a>\\n                          </section>\\n\\n            <section style=\"margin-bottom: 0.5em;width:20%;\" class=\"post\" itemscope=\"\" itemprop=\"blogPost\">\\n                <a href=\"/XXL-JOB/good-collection/\" title=\"#\" itemprop=\"url\" target=\"_blank\">\\n                    <time itemprop=\"datePublished\" style=\"width:100%\">\\n                        XXL-Job\\n                    </time>\\n                    <h1 itemprop=\"name\" style=\"width:0%\">&nbsp;</h1>\\n                </a>\\n            </section>\\n\\n\\n\\n            <!-- 注册中心 -->\\n            <section style=\"margin-bottom: 0.5em;width:20%;\" class=\"post\" itemscope=\"\" itemprop=\"blogPost\">\\n                <a href=\"#\" title=\"注册中心\" itemprop=\"url\" target=\"_blank\">\\n                    <time itemprop=\"datePublished\" style=\"display:none\"></time>\\n                    <h1 itemprop=\"name\">注册中心</h1>\\n                </a>\\n            </section>\\n              <section style=\"margin-bottom: 0.5em;width:20%;\" class=\"post\" itemscope=\"\" itemprop=\"blogPost\">\\n                  <a href=\"/categories/Eureka/\" title=\"注册中心中间件 Eureka 源码解析系列\" itemprop=\"url\" target=\"_blank\">\\n                    <time itemprop=\"datePublished\">\\n                        Eureka\\n                    </time>\\n                    <h1 itemprop=\"name\">&nbsp;</h1>\\n                </a>\\n              </section>\\n\\n              <section style=\"margin-bottom: 0.5em;width:20%;\" class=\"post\" itemscope=\"\" itemprop=\"blogPost\">\\n                  <a href=\"/Zookeeper/good-collection/\" title=\"注册中心中间件 Zookeeper 源码解析系列\" itemprop=\"url\" target=\"_blank\">\\n                    <time itemprop=\"datePublished\" style=\"width:100%\">\\n                          Zookeeper\\n                      </time>\\n                    <h1 itemprop=\"name\" style=\"width:0%\">&nbsp;</h1>\\n                  </a>\\n              </section>\\n            <section style=\"margin-bottom: 0.5em;width:20%;\" class=\"post\" itemscope=\"\" itemprop=\"blogPost\">\\n                 <a href=\"/Nacos/good-collection/\" title=\"配置中心 & 注册中心 Nacos 源码解析系列\" itemprop=\"url\" target=\"_blank\">\\n                    <time itemprop=\"datePublished\">\\n                        Nacos\\n                    </time>\\n                    <h1 itemprop=\"name\">&nbsp;</h1>\\n                </a>\\n            </section>\\n            <section style=\"margin-bottom: 0.5em;width:20%;\" class=\"post\" itemscope=\"\" itemprop=\"blogPost\">\\n                <a href=\"javascript:alert(\\'整理中\\');\" title=\"#\" itemprop=\"url\" target=\"_blank\">\\n                    <time itemprop=\"datePublished\">\\n                        Consul&nbsp;Etcd\\n                    </time>\\n                    <h1 itemprop=\"name\" style=\"width:0%\">&nbsp;</h1>\\n                </a>\\n            </section>\\n\\n\\n            <!-- 配置中心 -->\\n            <section style=\"margin-bottom: 0.5em;width:20%;\" class=\"post\" itemscope=\"\" itemprop=\"blogPost\">\\n                <a href=\"#\" title=\"配置中心\" itemprop=\"url\" target=\"_blank\">\\n                    <time itemprop=\"datePublished\" style=\"display:none\"></time>\\n                    <h1 itemprop=\"name\">配置中心</h1>\\n                </a>\\n            </section>\\n              <section style=\"margin-bottom: 0.5em;width:20%;\" class=\"post\" itemscope=\"\" itemprop=\"blogPost\">\\n                   <a href=\"/categories/Apollo/\" title=\"配置中心 Apollo 源码解析系列\" itemprop=\"url\" target=\"_blank\">\\n                      <time itemprop=\"datePublished\">\\n                          Apollo\\n                      </time>\\n                      <h1 itemprop=\"name\">&nbsp;</h1>\\n                  </a>\\n              </section>\\n              <section style=\"margin-bottom: 0.5em;width:20%;\" class=\"post\" itemscope=\"\" itemprop=\"blogPost\">\\n                     <a href=\"/Nacos/good-collection/\" title=\"配置中心 & 注册中心 Nacos 源码解析系列\" itemprop=\"url\" target=\"_blank\">\\n                        <time itemprop=\"datePublished\">\\n                            Nacos\\n                        </time>\\n                        <h1 itemprop=\"name\">&nbsp;</h1>\\n                    </a>\\n                </section>\\n\\n\\n            <section style=\"margin-bottom: 0.5em;width:20%;\" class=\"post\" itemscope=\"\" itemprop=\"blogPost\">\\n                <a href=\"/Spring-Cloud/Spring-Cloud-Config/\" title=\"Spring Cloud Config\" itemprop=\"url\" target=\"_blank\">\\n                    <time itemprop=\"datePublished\" style=\"width:100%\">\\n                        <font style=\"font-size: 14px; \">Spring Cloud</font> Config\\n                    </time>\\n                    <h1 itemprop=\"name\" style=\"width:0%\">&nbsp;</h1>\\n                </a>\\n            </section>\\n\\n            <section style=\"margin-bottom: 0.5em;width:20%;\" class=\"post\" itemscope=\"\" itemprop=\"blogPost\">\\n                <a href=\"javascript:alert(整理中！\\');\" title=\"#\" itemprop=\"url\" target=\"_blank\">\\n                    <time itemprop=\"datePublished\" style=\"width:100%\">\\n                          Disconf\\n                      </time>\\n                    <h1 itemprop=\"name\" style=\"width:0%\">&nbsp;</h1>\\n                  </a>\\n              </section>\\n\\n\\n            <!-- 链路追踪 -->\\n            <section style=\"margin-bottom: 0.5em;width:20%;\" class=\"post\" itemscope=\"\" itemprop=\"blogPost\">\\n                <a href=\"#\" title=\"链路追踪\" itemprop=\"url\" target=\"_blank\">\\n                    <time itemprop=\"datePublished\" style=\"display:none\"></time>\\n                    <h1 itemprop=\"name\">链路追踪</h1>\\n                </a>\\n            </section>\\n              <section style=\"margin-bottom: 0.5em;width:20%;\" class=\"post\" itemscope=\"\" itemprop=\"blogPost\">\\n                   <a href=\"/categories/SkyWalking/\" title=\"分布式追踪 & APM 系统 SkyWalking 源码解析系列\" itemprop=\"url\" target=\"_blank\">\\n                       <time itemprop=\"datePublished\">\\n                           SkyWalking\\n                       </time>\\n                       <h1 itemprop=\"name\">&nbsp;</h1>\\n                   </a>\\n              </section>\\n\\n              <section style=\"margin-bottom: 0.5em;width:20%;\" class=\"post\" itemscope=\"\" itemprop=\"blogPost\">\\n               <a href=\"/Zipkin/good-collection/\" title=\"分布式追踪系统 Zipkin 源码解析系列\" itemprop=\"url\" target=\"_blank\">\\n                    <time itemprop=\"datePublished\" style=\"width:100%\">\\n                          Zipkin\\n                      </time>\\n                    <h1 itemprop=\"name\" style=\"width:0%\">&nbsp;</h1>\\n                  </a>\\n              </section>\\n            <section style=\"margin-bottom: 0.5em;width:20%;\" class=\"post\" itemscope=\"\" itemprop=\"blogPost\">\\n                <a href=\"javascript:alert(整理中！\\');\" title=\"#\" itemprop=\"url\" target=\"_blank\">\\n                    <time itemprop=\"datePublished\" style=\"width:100%\">\\n                        Pinpoint\\n                    </time>\\n                    <h1 itemprop=\"name\" style=\"width:0%\">&nbsp;</h1>\\n                </a>\\n            </section>\\n            <section style=\"margin-bottom: 0.5em;width:20%;\" class=\"post\" itemscope=\"\" itemprop=\"blogPost\">\\n                <a href=\"javascript:alert(\\'整理中\\');\" title=\"#\" itemprop=\"url\" target=\"_blank\">\\n                    <time itemprop=\"datePublished\">\\n                        CAT\\n                    </time>\\n                    <h1 itemprop=\"name\" style=\"width:0%\">&nbsp;</h1>\\n                </a>\\n            </section>\\n\\n            <!-- 服务保证 -->\\n            <section style=\"margin-bottom: 0.5em;width:20%;\" class=\"post\" itemscope=\"\" itemprop=\"blogPost\">\\n                <a href=\"#\" title=\"服务保障\" itemprop=\"url\" target=\"_blank\">\\n                    <time itemprop=\"datePublished\" style=\"display:none\"></time>\\n                    <h1 itemprop=\"name\">服务保障</h1>\\n                </a>\\n            </section>\\n               <section style=\"margin-bottom: 0.5em;width:20%;\" class=\"post\" itemscope=\"\" itemprop=\"blogPost\">\\n                     <a href=\"/categories/Hystrix/\" title=\"服务保障组件 Hystrix 源码解析系列\" itemprop=\"url\" target=\"_blank\">\\n                         <time itemprop=\"datePublished\">\\n                             Hystrix\\n                         </time>\\n                        <h1 itemprop=\"name\" style=\"width:0%\">&nbsp;</h1>\\n                     </a>\\n                 </section>\\n                 <section style=\"margin-bottom: 0.5em;width:20%;\" class=\"post\" itemscope=\"\" itemprop=\"blogPost\">\\n                     <a href=\"/categories/Sentinel/\" title=\"服务保障组件 Sentinel 源码解析系列\" itemprop=\"url\" target=\"_blank\">\\n                         <time itemprop=\"datePublished\">\\n                              Sentinel\\n                         </time>\\n                         <h1 itemprop=\"name\" style=\"width:0%\">&nbsp;</h1>\\n                     </a>\\n                 </section>\\n                <section style=\"margin-bottom: 0.5em;width:20%;\" class=\"post\" itemscope=\"\" itemprop=\"blogPost\">\\n                         <a href=\"/categories/Resilience4j/\" title=\"服务保障组件 Resilience4j 源码解析系列\" itemprop=\"url\" target=\"_blank\">\\n                             <time itemprop=\"datePublished\">\\n                                  Resilience4j\\n                             </time>\\n                             <h1 itemprop=\"name\" style=\"width:0%\">&nbsp;</h1>\\n                         </a>\\n                     </section>\\n                 <section style=\"margin-bottom: 0.5em;width:20%;\" class=\"post\" itemscope=\"\" itemprop=\"blogPost\">\\n                     <a href=\"javascript:alert(\\'整理中\\');\" title=\"#\" itemprop=\"url\" target=\"_blank\">\\n                         <time itemprop=\"datePublished\">\\n\\n                         </time>\\n                           <h1 itemprop=\"name\" style=\"width:0%\">&nbsp;</h1>\\n                     </a>\\n                 </section>\\n\\n            <!-- 服务器 -->\\n            <section style=\"margin-bottom: 0.5em;width:20%;\" class=\"post\" itemscope=\"\" itemprop=\"blogPost\">\\n                <a href=\"#\" title=\"服务器\" itemprop=\"url\" target=\"_blank\">\\n                    <time itemprop=\"datePublished\" style=\"display:none\"></time>\\n                    <h1 itemprop=\"name\">服务器</h1>\\n                </a>\\n            </section>\\n              <section style=\"margin-bottom: 0.5em;width:20%;\" class=\"post\" itemscope=\"\" itemprop=\"blogPost\">\\n                   <a href=\"/Netty/Netty-collection/\" title=\"网络应用框架 Netty 源码解析系列\" itemprop=\"url\" target=\"_blank\">\\n                  <time itemprop=\"datePublished\" style=\"color: red;\">\\n                           Netty\\n                       </time>\\n                       <h1 itemprop=\"name\">&nbsp;</h1>\\n                   </a>\\n              </section>\\n              <section style=\"margin-bottom: 0.5em;width:20%;\" class=\"post\" itemscope=\"\" itemprop=\"blogPost\">\\n                 <a href=\"/Tomcat/Tomcat-collection/\" title=\"应用服务器 Tomcat 源码解析系列\" itemprop=\"url\" target=\"_blank\">\\n                    <time itemprop=\"datePublished\">\\n                        Tomcat\\n                    </time>\\n                    <h1 itemprop=\"name\">&nbsp;</h1>\\n                </a>\\n              </section>\\n            <section style=\"margin-bottom: 0.5em;width:20%;\" class=\"post\" itemscope=\"\" itemprop=\"blogPost\">\\n               <a href=\"/Jetty/Jetty-collection/\" title=\"应用服务器 Jetty 源码解析系列\" itemprop=\"url\" target=\"_blank\">\\n                   <time itemprop=\"datePublished\">\\n                       Jetty\\n                   </time>\\n                   <h1 itemprop=\"name\">&nbsp;</h1>\\n               </a>\\n            </section>\\n            <section style=\"margin-bottom: 0.5em;width:20%;\" class=\"post\" itemscope=\"\" itemprop=\"blogPost\">\\n                <a href=\"/categories/Nginx/\" title=\"Nginx\" itemprop=\"url\" target=\"_blank\">\\n                    <time itemprop=\"datePublished\">\\n                        Nginx\\n                    </time>\\n                    <h1 itemprop=\"name\" style=\"width:0%\">&nbsp;</h1>\\n                </a>\\n            </section>\\n\\n            <!-- Java -->\\n            <section style=\"margin-bottom: 0.5em;width:20%;\" class=\"post\" itemscope=\"\" itemprop=\"blogPost\">\\n                <a href=\"#\" title=\"Java\" itemprop=\"url\" target=\"_blank\">\\n                    <time itemprop=\"datePublished\" style=\"display:none\"></time>\\n                    <h1 itemprop=\"name\">Java</h1>\\n                </a>\\n            </section>\\n\\n             <section style=\"margin-bottom: 0.5em;width:20%;\" class=\"post\" itemscope=\"\" itemprop=\"blogPost\">\\n                 <a href=\"/Interview/good-collection\" title=\"Java 面试题\" itemprop=\"url\" target=\"_blank\">\\n                       <time itemprop=\"datePublished\" style=\"width:100%;color: red;\">\\n                           Java 面试题\\n                       </time>\\n                       <h1 itemprop=\"name\" style=\"width:0%\">&nbsp;</h1>\\n                   </a>\\n               </section>\\n\\n                <section style=\"margin-bottom: 0.5em;width:20%;\" class=\"post\" itemscope=\"\" itemprop=\"blogPost\">\\n                    <a href=\"/categories/JDK-源码/\" title=\"JDK 源码\" itemprop=\"url\" target=\"_blank\">\\n                          <time itemprop=\"datePublished\" style=\"width:100%\">\\n                              JDK 源码\\n                          </time>\\n                          <h1 itemprop=\"name\" style=\"width:0%\">&nbsp;</h1>\\n                      </a>\\n                  </section>\\n              <section style=\"margin-bottom: 0.5em;width:20%;\" class=\"post\" itemscope=\"\" itemprop=\"blogPost\">\\n                    <a href=\"/JUC/good-collection/\" title=\"Java 并发 J.U.C 源码解析系列\" itemprop=\"url\" target=\"_blank\">\\n                       <time itemprop=\"datePublished\" style=\"width:100%\">\\n                           Java 并发\\n                       </time>\\n                       <h1 itemprop=\"name\" style=\"width:0%\">&nbsp;</h1>\\n                   </a>\\n              </section>\\n               <section style=\"margin-bottom: 0.5em;width:20%;\" class=\"post\" itemscope=\"\" itemprop=\"blogPost\">\\n                  <a href=\"/Books/Java-Virtual-Machine-books-recommended/\" title=\"JVM 虚拟机\" itemprop=\"url\" target=\"_blank\">\\n                    <time itemprop=\"datePublished\" style=\"width:100%\">\\n                        JVM 虚拟机\\n                      </time>\\n                     <h1 itemprop=\"name\" style=\"width:0%\">&nbsp;</h1>\\n                  </a>\\n              </section>\\n\\n\\n            <!-- J2EE -->\\n            <section style=\"margin-bottom: 0.5em;width:20%;\" class=\"post\" itemscope=\"\" itemprop=\"blogPost\">\\n                <a href=\"#\" title=\"J2EE\" itemprop=\"url\" target=\"_blank\">\\n                    <time itemprop=\"datePublished\" style=\"display:none\"></time>\\n                    <h1 itemprop=\"name\">J2EE</h1>\\n                </a>\\n              </section>\\n              <section style=\"margin-bottom: 0.5em;width:20%;\" class=\"post\" itemscope=\"\" itemprop=\"blogPost\">\\n                    <a href=\"/Spring/good-collection/\" title=\"J2EE 框架 Spring 源码解析系列\" itemprop=\"url\" target=\"_blank\">\\n                  <time itemprop=\"datePublished\" style=\"color: red;\">\\n                          Spring\\n                      </time>\\n                      <h1 itemprop=\"name\">&nbsp;</h1>\\n                  </a>\\n              </section>\\n            <section style=\"margin-bottom: 0.5em;width:20%;\" class=\"post\" itemscope=\"\" itemprop=\"blogPost\">\\n                  <a href=\"/Spring-Boot/good-collection/\" title=\"服务框架 Spring Boot 源码解析系列\" itemprop=\"url\" target=\"_blank\">\\n                   <time itemprop=\"datePublished\" style=\"width:100%;color: red;\">\\n                       Spring Boot\\n                   </time>\\n                   <h1 itemprop=\"name\" style=\"width:0%\">&nbsp;</h1>\\n               </a>\\n            </section>\\n             <section style=\"margin-bottom: 0.5em;width:40%;\" class=\"post\" itemscope=\"\" itemprop=\"blogPost\">\\n                  <a href=\"/Spring-Cloud/good-collection/\" title=\"服务框架 Spring Cloud 源码解析系列\" itemprop=\"url\" target=\"_blank\">\\n                   <time itemprop=\"datePublished\" style=\"width:100%\">\\n                       Spring Cloud & Spring Cloud Alibaba\\n                   </time>\\n                   <h1 itemprop=\"name\" style=\"width:0%\">&nbsp;</h1>\\n               </a>\\n            </section>\\n<!--             <section style=\"margin-bottom: 0.5em;width:20%;\" class=\"post\" itemscope itemprop=\"blogPost\"> -->\\n<!--                 <a href=\"javascript:alert(\\'整理中\\');\" title=\"#\" itemprop=\"url\" target=\"_blank\"> -->\\n<!--                     <time itemprop=\"datePublished\"> -->\\n\\n<!--                     </time> -->\\n<!--                     <h1 itemprop=\"name\" style=\"width:0%\">&nbsp;</h1> -->\\n<!--                 </a> -->\\n<!--             </section> -->\\n\\n            <!-- Web 框架-->\\n            <section style=\"margin-bottom: 0.5em;width:20%;\" class=\"post\" itemscope=\"\" itemprop=\"blogPost\">\\n                <a href=\"#\" title=\"Web 框架\" itemprop=\"url\" target=\"_blank\">\\n                    <time itemprop=\"datePublished\" style=\"display:none\"></time>\\n                    <h1 itemprop=\"name\">Web 框架</h1>\\n                </a>\\n            </section>\\n              <section style=\"margin-bottom: 0.5em;width:20%;\" class=\"post\" itemscope=\"\" itemprop=\"blogPost\">\\n                   <a href=\"/Spring-MVC/good-collection/\" title=\"MVC 框架 Spring-MVC 源码解析系列\" itemprop=\"url\" target=\"_blank\">\\n                        <time itemprop=\"datePublished\" style=\"width:100%;color: read;\">\\n                           Spring MVC\\n                       </time>\\n                        <h1 itemprop=\"name\" style=\"width:0%\">&nbsp;</h1>\\n                   </a>\\n              </section>\\n              <section style=\"margin-bottom: 0.5em;width:20%;\" class=\"post\" itemscope=\"\" itemprop=\"blogPost\">\\n                   <a href=\"/Spring-Security/good-collection/\" title=\"权限认证框架 Spring-Security 源码解析系列\" itemprop=\"url\" target=\"_blank\">\\n                        <time itemprop=\"datePublished\" style=\"width:100%\">\\n                           Spring Security\\n                       </time>\\n                       <h1 itemprop=\"name\" style=\"width:0%\">&nbsp;</h1>\\n                   </a>\\n              </section>\\n            <section style=\"margin-bottom: 0.5em;width:20%;\" class=\"post\" itemscope=\"\" itemprop=\"blogPost\">\\n               <a href=\"/Spring-Webflux/good-collection/\" title=\"响应式 Web 框架 Spring Webflux 源码解析系列\" itemprop=\"url\" target=\"_blank\">\\n                    <time itemprop=\"datePublished\" style=\"width:100%\">\\n                       Spring Webflux\\n                   </time>\\n                    <h1 itemprop=\"name\" style=\"width:0%\">&nbsp;</h1>\\n               </a>\\n            </section>\\n            <section style=\"margin-bottom: 0.5em;width:20%;\" class=\"post\" itemscope=\"\" itemprop=\"blogPost\">\\n                <a href=\"/Shiro/good-collection/\" title=\"权限框架 Shiro 源码解析系列\" itemprop=\"url\" target=\"_blank\">\\n                    <time itemprop=\"datePublished\">\\n                        Shiro\\n                    </time>\\n                    <h1 itemprop=\"name\" style=\"width:0%\">&nbsp;</h1>\\n                </a>\\n            </section>\\n\\n            <!-- ORM 框架-->\\n            <section style=\"margin-bottom: 0.5em;width:20%;\" class=\"post\" itemscope=\"\" itemprop=\"blogPost\">\\n                <a href=\"#\" title=\"ORM 框架\" itemprop=\"url\" target=\"_blank\">\\n                    <time itemprop=\"datePublished\" style=\"display:none\"></time>\\n                    <h1 itemprop=\"name\">ORM 框架</h1>\\n                </a>\\n            </section>\\n              <section style=\"margin-bottom: 0.5em;width:20%;\" class=\"post\" itemscope=\"\" itemprop=\"blogPost\">\\n                  <a href=\"/MyBatis/good-collection/\" title=\"持久层框架 MyBatis 源码解析系列\" itemprop=\"url\" target=\"_blank\">\\n                      <time itemprop=\"datePublished\" style=\"color: red;\">\\n                          MyBatis\\n                      </time>\\n                      <h1 itemprop=\"name\">&nbsp;</h1>\\n                  </a>\\n              </section>\\n               <section style=\"margin-bottom: 0.5em;width:20%;\" class=\"post\" itemscope=\"\" itemprop=\"blogPost\">\\n                      <a href=\"http://www.iocoder.cn/Spring-Boot/JPA/?self\" title=\"#\" itemprop=\"url\" target=\"_blank\">\\n                          <time itemprop=\"datePublished\">\\n                              Hibernate\\n                          </time>\\n                          <h1 itemprop=\"name\" style=\"width:0%\">&nbsp;</h1>\\n                      </a>\\n                  </section>\\n            <section style=\"margin-bottom: 0.5em;width:20%;\" class=\"post\" itemscope=\"\" itemprop=\"blogPost\">\\n                  <a href=\"/Spring-Data-JPA/good-collection/\" title=\"持久层框架 Spring Data JPA 源码解析系列\" itemprop=\"url\" target=\"_blank\">\\n                   <time itemprop=\"datePublished\" style=\"width:100%\">\\n                        Spring Data JPA\\n                   </time>\\n                   <h1 itemprop=\"name\" style=\"width:0%\">&nbsp;</h1>\\n               </a>\\n            </section>\\n            <section style=\"margin-bottom: 0.5em;width:20%;\" class=\"post\" itemscope=\"\" itemprop=\"blogPost\">\\n                <a href=\"javascript:alert(\\'整理中\\');\" title=\"#\" itemprop=\"url\" target=\"_blank\">\\n                    <time itemprop=\"datePublished\">\\n\\n                    </time>\\n                    <h1 itemprop=\"name\" style=\"width:0%\">&nbsp;</h1>\\n                </a>\\n            </section>\\n\\n            <!-- 数据库连接池 -->\\n            <section style=\"margin-bottom: 0.5em;width:20%;\" class=\"post\" itemscope=\"\" itemprop=\"blogPost\">\\n                <a href=\"#\" title=\"数据库连接池\" itemprop=\"url\" target=\"_blank\">\\n                    <time itemprop=\"datePublished\" style=\"display:none\"></time>\\n                    <h1 itemprop=\"name\">数据库连接池</h1>\\n                </a>\\n            </section>\\n              <section style=\"margin-bottom: 0.5em;width:20%;\" class=\"post\" itemscope=\"\" itemprop=\"blogPost\">\\n                <a href=\"/HikariCP/good-collection/\" title=\"数据库连接池 HikariCP 源码解析系列\" itemprop=\"url\" target=\"_blank\">\\n                     <time itemprop=\"datePublished\">\\n                         HikariCP\\n                     </time>\\n                     <h1 itemprop=\"name\">&nbsp;</h1>\\n                 </a>\\n              </section>\\n               <section style=\"margin-bottom: 0.5em;width:20%;\" class=\"post\" itemscope=\"\" itemprop=\"blogPost\">\\n                      <a href=\"/Spring-Boot/datasource-pool/\" title=\"#\" itemprop=\"url\" target=\"_blank\">\\n                            <time itemprop=\"datePublished\" style=\"width:100%\">\\n                                Druid\\n                            </time>\\n                            <h1 itemprop=\"name\" style=\"width:0%\">&nbsp;</h1>\\n                        </a>\\n                  </section>\\n            <section style=\"margin-bottom: 0.5em;width:40%;\" class=\"post\" itemscope=\"\" itemprop=\"blogPost\">\\n               <a href=\"/Spring-Boot/dynamic-datasource/\" title=\"#\" itemprop=\"url\" target=\"_blank\">\\n                   <time itemprop=\"datePublished\" style=\"width:100%\">\\n                        多数据源 && 读写分离\\n                   </time>\\n                   <h1 itemprop=\"name\" style=\"width:0%\">&nbsp;</h1>\\n               </a>\\n            </section>\\n\\n            <!-- 数据库中间件 -->\\n            <section style=\"margin-bottom: 0.5em;width:20%;\" class=\"post\" itemscope=\"\" itemprop=\"blogPost\">\\n                <a href=\"#\" title=\"数据库中间件\" itemprop=\"url\" target=\"_blank\">\\n                    <time itemprop=\"datePublished\" style=\"display:none\"></time>\\n                    <h1 itemprop=\"name\">数据库中间件</h1>\\n                </a>\\n            </section>\\n              <section style=\"margin-bottom: 0.5em;width:20%;\" class=\"post\" itemscope=\"\" itemprop=\"blogPost\">\\n                <a href=\"/categories/Sharding-JDBC/\" title=\"当当数据库中间件 Sharding-JDBC 源码解析系列\" itemprop=\"url\" target=\"_blank\">\\n                        <time itemprop=\"datePublished\" style=\"width:100%\">\\n                          Sharding JDBC\\n                      </time>\\n                    <h1 itemprop=\"name\" style=\"width:0%\">&nbsp;</h1>\\n                  </a>\\n              </section>\\n              <section style=\"margin-bottom: 0.5em;width:20%;\" class=\"post\" itemscope=\"\" itemprop=\"blogPost\">\\n                 <a href=\"/categories/Sharding-Sphere/\" title=\"开源数据库中间件 Sharding-Sphere 源码解析系列\" itemprop=\"url\" target=\"_blank\">\\n                         <time itemprop=\"datePublished\" style=\"width:100%\">\\n                           Sharding Sphere\\n                       </time>\\n                     <h1 itemprop=\"name\" style=\"width:0%\">&nbsp;</h1>\\n                   </a>\\n              </section>\\n               <section style=\"margin-bottom: 0.5em;width:20%;\" class=\"post\" itemscope=\"\" itemprop=\"blogPost\">\\n                      <a href=\"/categories/MyCAT/\" title=\"阿里 Cobar 数据库中间件衍生 MyCAT 源码解析系列\" itemprop=\"url\" target=\"_blank\">\\n                            <time itemprop=\"datePublished\">\\n                                MyCAT\\n                            </time>\\n                            <h1 itemprop=\"name\">&nbsp;</h1>\\n                        </a>\\n                  </section>\\n\\n            <section style=\"margin-bottom: 0.5em;width:20%;\" class=\"post\" itemscope=\"\" itemprop=\"blogPost\">\\n                  <a href=\"/Canal/good-collection/\" title=\"Binlog 的增量订阅和消费组件 Canal 源码解析系列\" itemprop=\"url\" target=\"_blank\">\\n                    <time itemprop=\"datePublished\">\\n                        Canal\\n                        <!-- || DataX -->\\n                    </time>\\n                    <h1 itemprop=\"name\" style=\"width:0%\">&nbsp;</h1>\\n                </a>\\n            </section>\\n\\n            <!-- 分布式事务 -->\\n            <section style=\"margin-bottom: 0.5em;width:20%;\" class=\"post\" itemscope=\"\" itemprop=\"blogPost\">\\n                <a href=\"#\" title=\"分布式事务\" itemprop=\"url\" target=\"_blank\">\\n                    <time itemprop=\"datePublished\" style=\"display:none\"></time>\\n                    <h1 itemprop=\"name\">分布式事务</h1>\\n                </a>\\n            </section>\\n              <section style=\"margin-bottom: 0.5em;width:20%;\" class=\"post\" itemscope=\"\" itemprop=\"blogPost\">\\n                <a href=\"/categories/TCC-Transaction/\" title=\"TCC事务中间件 TCC-Transaction 源码解析系列\" itemprop=\"url\" target=\"_blank\">\\n                      <time itemprop=\"datePublished\" style=\"width:100%\">\\n                          TCC Transaction\\n                      </time>\\n                    <h1 itemprop=\"name\" style=\"width:0%\">&nbsp;</h1>\\n                  </a>\\n              </section>\\n             <section style=\"margin-bottom: 0.5em;width:20%;\" class=\"post\" itemscope=\"\" itemprop=\"blogPost\">\\n                    <a href=\"/categories/Seata/\" title=\"事务中间件 Seata 源码解析系列\" itemprop=\"url\" target=\"_blank\">\\n                        <time itemprop=\"datePublished\">\\n                            Seata\\n                        </time>\\n                        <h1 itemprop=\"name\" style=\"width:0%\">&nbsp;</h1>\\n                    </a>\\n                </section>\\n               <section style=\"margin-bottom: 0.5em;width:20%;\" class=\"post\" itemscope=\"\" itemprop=\"blogPost\">\\n                      <a href=\"/categories/Fescar/\" title=\"事务中间件 Fescar 源码解析系列\" itemprop=\"url\" target=\"_blank\">\\n                          <time itemprop=\"datePublished\">\\n                              Fescar\\n                          </time>\\n                          <h1 itemprop=\"name\" style=\"width:0%\">&nbsp;</h1>\\n                      </a>\\n                  </section>\\n               <section style=\"margin-bottom: 0.5em;width:20%;\" class=\"post\" itemscope=\"\" itemprop=\"blogPost\">\\n                      <a href=\"/Happylifeplat-TCC/good-collection\" title=\"TCC事务中间件 Happylifeplat-TCC 源码解析系列\" itemprop=\"url\" target=\"_blank\">\\n                        <time itemprop=\"datePublished\" style=\"width:100%\">\\n                              Happylifeplat TCC\\n                          </time>\\n                         <h1 itemprop=\"name\" style=\"width:0%\">&nbsp;</h1>\\n                      </a>\\n                </section>\\n             <!--\\n            <section style=\"margin-bottom: 0.5em;width:20%;\" class=\"post\" itemscope itemprop=\"blogPost\">\\n                <a href=\"/Myth/good-collection\" title=\"基于 MQ 的分布式事务中间件 Myth 源码解析系列\" itemprop=\"url\" target=\"_blank\">\\n                   <time itemprop=\"datePublished\">\\n                       Myth\\n                   </time>\\n                   <h1 itemprop=\"name\">&nbsp;</h1>\\n               </a>\\n            </section>\\n            -->\\n\\n\\n            <!-- 数据库 -->\\n            <section style=\"margin-bottom: 0.5em;width:20%;\" class=\"post\" itemscope=\"\" itemprop=\"blogPost\">\\n                <a href=\"#\" title=\"数据库\" itemprop=\"url\" target=\"_blank\">\\n                    <time itemprop=\"datePublished\" style=\"display:none\"></time>\\n                    <h1 itemprop=\"name\">数据库</h1>\\n                </a>\\n            </section>\\n              <section style=\"margin-bottom: 0.5em;width:20%;\" class=\"post\" itemscope=\"\" itemprop=\"blogPost\">\\n                <a href=\"/Books/MySQL-books-recommended\" title=\"#\" itemprop=\"url\" target=\"_blank\">\\n                    <time itemprop=\"datePublished\">\\n                        MySQL\\n                    </time>\\n                    <h1 itemprop=\"name\" style=\"width:0%\">&nbsp;</h1>\\n                </a>\\n              </section>\\n               <section style=\"margin-bottom: 0.5em;width:20%;\" class=\"post\" itemscope=\"\" itemprop=\"blogPost\">\\n                      <a href=\"/Redis/good-collection\" title=\"超高性能 key-value 数据库 Redis\" itemprop=\"url\" target=\"_blank\">\\n                          <time itemprop=\"datePublished\">\\n                            Redis\\n                          </time>\\n                          <h1 itemprop=\"name\" style=\"width:0%\">&nbsp;</h1>\\n                      </a>\\n                </section>\\n            <section style=\"margin-bottom: 0.5em;width:20%;\" class=\"post\" itemscope=\"\" itemprop=\"blogPost\">\\n                <a href=\"/categories/MongoDB\" title=\"#\" itemprop=\"url\" target=\"_blank\">\\n                    <time itemprop=\"datePublished\">\\n                        MongoDB\\n                    </time>\\n                    <h1 itemprop=\"name\" style=\"width:0%\">&nbsp;</h1>\\n                </a>\\n            </section>\\n            <section style=\"margin-bottom: 0.5em;width:20%;\" class=\"post\" itemscope=\"\" itemprop=\"blogPost\">\\n                <a href=\"/TiDB/good-collection/\" title=\"分布式 NewSQL 关系型数据库 TiDB 源码解析系列\" itemprop=\"url\" target=\"_blank\">\\n                    <time itemprop=\"datePublished\">\\n                        TiDB\\n                    </time>\\n                    <h1 itemprop=\"name\">&nbsp;</h1>\\n                </a>\\n            </section>\\n\\n            <!-- 搜索引擎 -->\\n            <section style=\"margin-bottom: 0.5em;width:20%;\" class=\"post\" itemscope=\"\" itemprop=\"blogPost\">\\n                <a href=\"#\" title=\"搜索引擎\" itemprop=\"url\" target=\"_blank\">\\n                    <time itemprop=\"datePublished\" style=\"display:none\"></time>\\n                    <h1 itemprop=\"name\">搜索引擎</h1>\\n                </a>\\n            </section>\\n               <section style=\"margin-bottom: 0.5em;width:20%;\" class=\"post\" itemscope=\"\" itemprop=\"blogPost\">\\n                <a href=\"/Books/Elasticsearch-books-recommended\" title=\"#\" itemprop=\"url\" target=\"_blank\">\\n                      <time itemprop=\"datePublished\">\\n                        Elasticsearch\\n                      </time>\\n                      <h1 itemprop=\"name\" style=\"width:0%\">&nbsp;</h1>\\n                  </a>\\n                </section>\\n              <section style=\"margin-bottom: 0.5em;width:20%;\" class=\"post\" itemscope=\"\" itemprop=\"blogPost\">\\n                  <a href=\"javascript:alert(\\'整理中\\');\" title=\"#\" itemprop=\"url\" target=\"_blank\">\\n                        <time itemprop=\"datePublished\">\\n                            Lucene\\n                        </time>\\n                        <h1 itemprop=\"name\" style=\"width:0%\">&nbsp;</h1>\\n                    </a>\\n              </section>\\n            <section style=\"margin-bottom: 0.5em;width:20%;\" class=\"post\" itemscope=\"\" itemprop=\"blogPost\">\\n                <a href=\"javascript:alert(\\'整理中\\');\" title=\"#\" itemprop=\"url\" target=\"_blank\">\\n                    <time itemprop=\"datePublished\">\\n                        Solr\\n                    </time>\\n                    <h1 itemprop=\"name\" style=\"width:0%\">&nbsp;</h1>\\n                </a>\\n            </section>\\n            <section style=\"margin-bottom: 0.5em;width:20%;\" class=\"post\" itemscope=\"\" itemprop=\"blogPost\">\\n                <a href=\"javascript:alert(\\'整理中\\');\" title=\"#\" itemprop=\"url\" target=\"_blank\">\\n                    <time itemprop=\"datePublished\">\\n\\n                    </time>\\n                    <h1 itemprop=\"name\" style=\"width:0%\">&nbsp;</h1>\\n                </a>\\n            </section>\\n\\n            <!-- 工具类 -->\\n            <section style=\"margin-bottom: 0.5em;width:20%;\" class=\"post\" itemscope=\"\" itemprop=\"blogPost\">\\n                <a href=\"#\" title=\"工具类\" itemprop=\"url\" target=\"_blank\">\\n                    <time itemprop=\"datePublished\" style=\"display:none\"></time>\\n                    <h1 itemprop=\"name\">工具类</h1>\\n                </a>\\n            </section>\\n            <section style=\"margin-bottom: 0.5em;width:20%;\" class=\"post\" itemscope=\"\" itemprop=\"blogPost\">\\n                  <a href=\"/categories/RxJava/\" title=\"响应式编程 RxJava 源码解析系列\" itemprop=\"url\" target=\"_blank\">\\n                      <time itemprop=\"datePublished\">\\n                          RxJava\\n                      </time>\\n                      <h1 itemprop=\"name\" style=\"width:0%\">&nbsp;</h1>\\n                  </a>\\n              </section>\\n            <section style=\"margin-bottom: 0.5em;width:20%;\" class=\"post\" itemscope=\"\" itemprop=\"blogPost\">\\n                <a href=\"/Guava/good-collection/\" title=\"Google 的 Java 常用类库\" itemprop=\"url\" target=\"_blank\">\\n                    <time itemprop=\"datePublished\">\\n                        Guava\\n                    </time>\\n                      <h1 itemprop=\"name\" style=\"width:0%\">&nbsp;</h1>\\n                </a>\\n            </section>\\n            <section style=\"margin-bottom: 0.5em;width:20%;\" class=\"post\" itemscope=\"\" itemprop=\"blogPost\">\\n                <a href=\"javascript:alert(\\'整理中\\');\" title=\"#\" itemprop=\"url\" target=\"_blank\">\\n                    <time itemprop=\"datePublished\">\\n\\n                    </time>\\n                      <h1 itemprop=\"name\" style=\"width:0%\">&nbsp;</h1>\\n                </a>\\n            </section>\\n            <section style=\"margin-bottom: 0.5em;width:20%;\" class=\"post\" itemscope=\"\" itemprop=\"blogPost\">\\n                <a href=\"javascript:alert(\\'整理中\\');\" title=\"#\" itemprop=\"url\" target=\"_blank\">\\n                    <time itemprop=\"datePublished\">\\n\\n                    </time>\\n                      <h1 itemprop=\"name\" style=\"width:0%\">&nbsp;</h1>\\n                </a>\\n            </section>\\n\\n\\n            <!-- 自我修养 -->\\n            <section style=\"margin-bottom: 0.5em;width:20%;\" class=\"post\" itemscope=\"\" itemprop=\"blogPost\">\\n                <a href=\"#\" title=\"自我修养\" itemprop=\"url\" target=\"_blank\">\\n                    <time itemprop=\"datePublished\" style=\"display:none\"></time>\\n                    <h1 itemprop=\"name\">自我修养</h1>\\n                </a>\\n            </section>\\n              <section style=\"margin-bottom: 0.5em;width:20%;\" class=\"post\" itemscope=\"\" itemprop=\"blogPost\">\\n                 <a href=\"/DesignPattern/good-collection\" title=\"设计模式\" itemprop=\"url\" target=\"_blank\">\\n                      <time itemprop=\"datePublished\" style=\"width:100%\">\\n                          设计模式\\n                      </time>\\n                      <h1 itemprop=\"name\" style=\"width:0%\">&nbsp;</h1>\\n                  </a>\\n              </section>\\n               <section style=\"margin-bottom: 0.5em;width:20%;\" class=\"post\" itemscope=\"\" itemprop=\"blogPost\">\\n                  <a href=\"/Books/Data-Structures-and-Algorithms-books-recommended/\" title=\"数据结构与算法\" itemprop=\"url\" target=\"_blank\">\\n                      <time itemprop=\"datePublished\" style=\"width:100%\">\\n                            数据结构与算法\\n                        </time>\\n                        <h1 itemprop=\"name\" style=\"width:0%\">&nbsp;</h1>\\n                    </a>\\n                </section>\\n               <section style=\"margin-bottom: 0.5em;width:20%;\" class=\"post\" itemscope=\"\" itemprop=\"blogPost\">\\n                 <a href=\"/categories/性能测试/\" title=\"性能测试\" itemprop=\"url\" target=\"_blank\">\\n                     <time itemprop=\"datePublished\" style=\"width:100%\">\\n                           性能测试\\n                       </time>\\n                       <h1 itemprop=\"name\" style=\"width:0%\">&nbsp;</h1>\\n                   </a>\\n               </section>\\n                <section style=\"margin-bottom: 0.5em;width:20%;\" class=\"post\" itemscope=\"\" itemprop=\"blogPost\">\\n                     <a href=\"javascript:alert(\\'整理中\\');\" title=\"#\" itemprop=\"url\" target=\"_blank\">\\n                            <time itemprop=\"datePublished\">\\n\\n                            </time>\\n                            <h1 itemprop=\"name\" style=\"width:0%\">&nbsp;</h1>\\n                        </a>\\n                </section>\\n\\n            <!-- 容器服务 -->\\n            <section style=\"margin-bottom: 0.5em;width:20%;\" class=\"post\" itemscope=\"\" itemprop=\"blogPost\">\\n                <a href=\"#\" title=\"容器服务\" itemprop=\"url\" target=\"_blank\">\\n                    <time itemprop=\"datePublished\" style=\"display:none\"></time>\\n                    <h1 itemprop=\"name\">容器服务</h1>\\n                </a>\\n            </section>\\n            <section style=\"margin-bottom: 0.5em;width:20%;\" class=\"post\" itemscope=\"\" itemprop=\"blogPost\">\\n                 <a href=\"/Books/Linux-books-recommended\" title=\"操作系统 Linux\" itemprop=\"url\" target=\"_blank\">\\n                        <time itemprop=\"datePublished\">\\n                            Linux\\n                        </time>\\n                        <h1 itemprop=\"name\" style=\"width:0%\">&nbsp;</h1>\\n                    </a>\\n            </section>\\n            <section style=\"margin-bottom: 0.5em;width:20%;\" class=\"post\" itemscope=\"\" itemprop=\"blogPost\">\\n                <a href=\"/Docker/good-collection\" title=\"Docker\" itemprop=\"url\" target=\"_blank\">\\n                      <time itemprop=\"datePublished\" style=\"width:100%\">\\n                          Docker\\n                      </time>\\n                      <h1 itemprop=\"name\" style=\"width:0%\">&nbsp;</h1>\\n                  </a>\\n              </section>\\n              <section style=\"margin-bottom: 0.5em;width:20%;\" class=\"post\" itemscope=\"\" itemprop=\"blogPost\">\\n                 <a href=\"/Kubernetes/good-collection\" title=\"Kubernetes\" itemprop=\"url\" target=\"_blank\">\\n                      <time itemprop=\"datePublished\" style=\"width:100%\">\\n                          Kubernetes\\n                      </time>\\n                      <h1 itemprop=\"name\" style=\"width:0%\">&nbsp;</h1>\\n                  </a>\\n              </section>\\n               <section style=\"margin-bottom: 0.5em;width:20%;\" class=\"post\" itemscope=\"\" itemprop=\"blogPost\">\\n                  <a href=\"/Swarm/good-collection\" title=\"Swarm\" itemprop=\"url\" target=\"_blank\">\\n                      <time itemprop=\"datePublished\" style=\"width:100%\">\\n                            Swarm\\n                        </time>\\n                        <h1 itemprop=\"name\" style=\"width:0%\">&nbsp;</h1>\\n                    </a>\\n                </section>\\n            <!-- 开发工具 -->\\n             <section style=\"margin-bottom: 0.5em;width:20%;\" class=\"post\" itemscope=\"\" itemprop=\"blogPost\">\\n             <a href=\"#\" title=\"开发工具\" itemprop=\"url\" target=\"_blank\">\\n                 <time itemprop=\"datePublished\" style=\"display:none\"></time>\\n                 <h1 itemprop=\"name\">开发工具</h1>\\n             </a>\\n         </section>\\n         <section style=\"margin-bottom: 0.5em;width:20%;\" class=\"post\" itemscope=\"\" itemprop=\"blogPost\">\\n              <a href=\"/Books/Git-books-recommended\" title=\"版本管理 Git\" itemprop=\"url\" target=\"_blank\">\\n                     <time itemprop=\"datePublished\">\\n                         Git\\n                     </time>\\n                     <h1 itemprop=\"name\" style=\"width:0%\">&nbsp;</h1>\\n                 </a>\\n         </section>\\n         <section style=\"margin-bottom: 0.5em;width:20%;\" class=\"post\" itemscope=\"\" itemprop=\"blogPost\">\\n             <a href=\"/Books/Maven-books-recommended\" title=\"项目构建工具 Maven\" itemprop=\"url\" target=\"_blank\">\\n                   <time itemprop=\"datePublished\" style=\"width:100%\">\\n                       Maven\\n                   </time>\\n                   <h1 itemprop=\"name\" style=\"width:0%\">&nbsp;</h1>\\n               </a>\\n           </section>\\n           <section style=\"margin-bottom: 0.5em;width:20%;\" class=\"post\" itemscope=\"\" itemprop=\"blogPost\">\\n              <a href=\"/Books/Jenkins-books-recommended\" title=\"持续集成引擎 Maven\" itemprop=\"url\" target=\"_blank\">\\n                   <time itemprop=\"datePublished\" style=\"width:100%\">\\n                       Jenkins\\n                   </time>\\n                   <h1 itemprop=\"name\" style=\"width:0%\">&nbsp;</h1>\\n               </a>\\n           </section>\\n            <section style=\"margin-bottom: 0.5em;width:20%;\" class=\"post\" itemscope=\"\" itemprop=\"blogPost\">\\n               <a href=\"/tags/IntelliJ-IDEA\" title=\"开发工具 IntelliJ IDEA\" itemprop=\"url\" target=\"_blank\">\\n                   <time itemprop=\"datePublished\" style=\"width:100%\">\\n                         IntelliJ&nbsp;IDEA\\n                     </time>\\n                     <h1 itemprop=\"name\" style=\"width:0%\">&nbsp;</h1>\\n                 </a>\\n             </section>\\n\\n\\n            <!-- 监控体系 -->\\n             <section style=\"margin-bottom: 0.5em;width:20%;\" class=\"post\" itemscope=\"\" itemprop=\"blogPost\">\\n             <a href=\"#\" title=\"开发工具\" itemprop=\"url\" target=\"_blank\">\\n                 <time itemprop=\"datePublished\" style=\"display:none\"></time>\\n                 <h1 itemprop=\"name\">监控体系</h1>\\n             </a>\\n         </section>\\n         <section style=\"margin-bottom: 0.5em;width:20%;\" class=\"post\" itemscope=\"\" itemprop=\"blogPost\">\\n              <a href=\"/Elasticsearch/ELK-install/\" title=\"日志服务\" itemprop=\"url\" target=\"_blank\">\\n                     <time itemprop=\"datePublished\">\\n                         ELK\\n                     </time>\\n                     <h1 itemprop=\"name\" style=\"width:0%\">&nbsp;</h1>\\n                 </a>\\n         </section>\\n         <section style=\"margin-bottom: 0.5em;width:20%;\" class=\"post\" itemscope=\"\" itemprop=\"blogPost\">\\n             <a href=\"/Sentry/install/\" title=\"错误收集平台\" itemprop=\"url\" target=\"_blank\">\\n                   <time itemprop=\"datePublished\" style=\"width:100%\">\\n                       Sentry\\n                   </time>\\n                   <h1 itemprop=\"name\" style=\"width:0%\">&nbsp;</h1>\\n               </a>\\n           </section>\\n           <section style=\"margin-bottom: 0.5em;width:20%;\" class=\"post\" itemscope=\"\" itemprop=\"blogPost\">\\n              <a href=\"/Prometheus/install/\" title=\"监控平台\" itemprop=\"url\" target=\"_blank\">\\n                   <time itemprop=\"datePublished\" style=\"width:100%\">\\n                       Prometheus\\n                   </time>\\n                   <h1 itemprop=\"name\" style=\"width:0%\">&nbsp;</h1>\\n               </a>\\n           </section>\\n            <section style=\"margin-bottom: 0.5em;width:20%;\" class=\"post\" itemscope=\"\" itemprop=\"blogPost\">\\n               <a href=\"/Spring-Boot/Admin\" title=\"开发工具 IntelliJ IDEA\" itemprop=\"url\" target=\"_blank\">\\n                   <time itemprop=\"datePublished\" style=\"width:100%\">\\n                         Spring&nbsp;Boot&nbsp;Admin\\n                     </time>\\n                     <h1 itemprop=\"name\" style=\"width:0%\">&nbsp;</h1>\\n                 </a>\\n             </section>\\n\\n         <!--前端框架-->\\n         <section style=\"margin-bottom: 0.5em;width:20%;\" class=\"post\" itemscope=\"\" itemprop=\"blogPost\">\\n                     <a href=\"#\" title=\"前端框架\" itemprop=\"url\" target=\"_blank\">\\n                         <time itemprop=\"datePublished\" style=\"display:none\"></time>\\n                         <h1 itemprop=\"name\">前端框架</h1>\\n                     </a>\\n                 </section>\\n                 <section style=\"margin-bottom: 0.5em;width:20%;\" class=\"post\" itemscope=\"\" itemprop=\"blogPost\">\\n                      <a href=\"/Books/React-books-recommended\" title=\"前端框架 React\" itemprop=\"url\" target=\"_blank\">\\n                             <time itemprop=\"datePublished\">\\n                                 React\\n                             </time>\\n                             <h1 itemprop=\"name\" style=\"width:0%\">&nbsp;</h1>\\n                         </a>\\n                 </section>\\n                 <section style=\"margin-bottom: 0.5em;width:20%;\" class=\"post\" itemscope=\"\" itemprop=\"blogPost\">\\n                       <a href=\"/Books/Vue-books-recommended\" title=\"前端框架 Vue\" itemprop=\"url\" target=\"_blank\">\\n                              <time itemprop=\"datePublished\">\\n                                  Vue\\n                              </time>\\n                              <h1 itemprop=\"name\" style=\"width:0%\">&nbsp;</h1>\\n                          </a>\\n                  </section>\\n                    <section style=\"margin-bottom: 0.5em;width:20%;\" class=\"post\" itemscope=\"\" itemprop=\"blogPost\">\\n                         <a href=\"/Books/Angular-books-recommended\" title=\"前端框架 Angular\" itemprop=\"url\" target=\"_blank\">\\n                                <time itemprop=\"datePublished\">\\n                                    Angular\\n                                </time>\\n                                <h1 itemprop=\"name\" style=\"width:0%\">&nbsp;</h1>\\n                            </a>\\n                    </section>\\n                     <section style=\"margin-bottom: 0.5em;width:20%;\" class=\"post\" itemscope=\"\" itemprop=\"blogPost\">\\n                          <a href=\"javascript:;\" title=\"none\" itemprop=\"url\" target=\"_blank\">\\n                                 <time itemprop=\"datePublished\">\\n                                     &nbsp;\\n                                 </time>\\n                                 <h1 itemprop=\"name\" style=\"width:0%\">&nbsp;</h1>\\n                             </a>\\n                     </section>\\n\\n            <!--大数据-->\\n             <section style=\"margin-bottom: 0.5em;width:20%;\" class=\"post\" itemscope=\"\" itemprop=\"blogPost\">\\n                         <a href=\"#\" title=\"大数据\" itemprop=\"url\" target=\"_blank\">\\n                             <time itemprop=\"datePublished\" style=\"display:none\"></time>\\n                             <h1 itemprop=\"name\">大数据</h1>\\n                         </a>\\n                     </section>\\n                     <section style=\"margin-bottom: 0.5em;width:20%;\" class=\"post\" itemscope=\"\" itemprop=\"blogPost\">\\n                          <a href=\"javascript:alert(\\'暂未更新\\')\" title=\"\" itemprop=\"url\" target=\"_blank\">\\n                                 <time itemprop=\"datePublished\">\\n                                     HBase\\n                                 </time>\\n                                 <h1 itemprop=\"name\" style=\"width:0%\">&nbsp;</h1>\\n                             </a>\\n                     </section>\\n                     <section style=\"margin-bottom: 0.5em;width:20%;\" class=\"post\" itemscope=\"\" itemprop=\"blogPost\">\\n                           <a href=\"javascript:alert(\\'暂未更新\\')\" title=\"\" itemprop=\"url\" target=\"_blank\">\\n                                  <time itemprop=\"datePublished\">\\n                                      Hive\\n                                  </time>\\n                                  <h1 itemprop=\"name\" style=\"width:0%\">&nbsp;</h1>\\n                              </a>\\n                      </section>\\n                       <section style=\"margin-bottom: 0.5em;width:20%;\" class=\"post\" itemscope=\"\" itemprop=\"blogPost\">\\n                              <a href=\"javascript:alert(\\'暂未更新\\')\" title=\"\" itemprop=\"url\" target=\"_blank\">\\n                                     <time itemprop=\"datePublished\">\\n                                         Spark\\n                                     </time>\\n                                     <h1 itemprop=\"name\" style=\"width:0%\">&nbsp;</h1>\\n                                 </a>\\n                         </section>\\n                        <section style=\"margin-bottom: 0.5em;width:20%;\" class=\"post\" itemscope=\"\" itemprop=\"blogPost\">\\n                               <a href=\"javascript:alert(\\'暂未更新\\')\" title=\"\" itemprop=\"url\" target=\"_blank\">\\n                                      <time itemprop=\"datePublished\">\\n                                          Flink\\n                                      </time>\\n                                      <h1 itemprop=\"name\" style=\"width:0%\">&nbsp;</h1>\\n                                  </a>\\n                          </section>\\n\\n            <!--大数据-->\\n             <section style=\"margin-bottom: 0.5em;width:20%;\" class=\"post\" itemscope=\"\" itemprop=\"blogPost\">\\n                 <a href=\"#\" title=\"其它语言\" itemprop=\"url\" target=\"_blank\">\\n                     <time itemprop=\"datePublished\" style=\"display:none\"></time>\\n                     <h1 itemprop=\"name\">其它语言</h1>\\n                 </a>\\n             </section>\\n             <section style=\"margin-bottom: 0.5em;width:20%;\" class=\"post\" itemscope=\"\" itemprop=\"blogPost\">\\n                    <a href=\"/Books/Go-books-recommended\" title=\"编程语言 Go\" itemprop=\"url\" target=\"_blank\">\\n                           <time itemprop=\"datePublished\">\\n                               Go\\n                           </time>\\n                           <h1 itemprop=\"name\" style=\"width:0%\">&nbsp;</h1>\\n                       </a>\\n               </section>\\n             <section style=\"margin-bottom: 0.5em;width:20%;\" class=\"post\" itemscope=\"\" itemprop=\"blogPost\">\\n                     <a href=\"javascript:alert(\\'暂未更新\\')\" title=\"编程语言 Python\" itemprop=\"url\" target=\"_blank\">\\n                            <time itemprop=\"datePublished\">\\n                                Python\\n                            </time>\\n                            <h1 itemprop=\"name\" style=\"width:0%\">&nbsp;</h1>\\n                        </a>\\n                </section>\\n               <section style=\"margin-bottom: 0.5em;width:20%;\" class=\"post\" itemscope=\"\" itemprop=\"blogPost\">\\n                    <a href=\"javascript:alert(\\'暂未更新\\')\" title=\"编程语言 Python\" itemprop=\"url\" target=\"_blank\">\\n                           <time itemprop=\"datePublished\">\\n                               &nbsp;\\n                           </time>\\n                           <h1 itemprop=\"name\" style=\"width:0%\">&nbsp;</h1>\\n                       </a>\\n               </section>\\n               <section style=\"margin-bottom: 0.5em;width:20%;\" class=\"post\" itemscope=\"\" itemprop=\"blogPost\">\\n                        <a href=\"javascript:alert(\\'暂未更新\\')\" title=\"编程语言 Python\" itemprop=\"url\" target=\"_blank\">\\n                               <time itemprop=\"datePublished\">\\n                                   &nbsp;\\n                               </time>\\n                               <h1 itemprop=\"name\" style=\"width:0%\">&nbsp;</h1>\\n                           </a>\\n                   </section>\\n\\n\\n  </div>\\n\\n<!--\\n  <div id=\"archive-page\">\\n      <section style=\"margin-bottom: 0.5em\" class=\"post\" itemscope itemprop=\"blogPost\">\\n          <a href=\"/categories/技术杂文/\" title=\"技术杂文 相关文章\" itemprop=\"url\" target=\"_blank\">\\n              <time itemprop=\"datePublished\">\\n                  技术杂文\\n              </time>\\n              <h1 itemprop=\"name\">技术杂文 相关文章</h1>\\n          </a>\\n      </section>\\n      <section style=\"margin-bottom: 0.5em\" class=\"post\" itemscope itemprop=\"blogPost\">\\n          <a href=\"/categories/Docker/\" title=\"Docker 相关文章\" itemprop=\"url\" target=\"_blank\">\\n              <time itemprop=\"datePublished\">\\n                  Docker\\n              </time>\\n              <h1 itemprop=\"name\">Docker 相关文章</h1>\\n          </a>\\n      </section>\\n      <section style=\"margin-bottom: 0.5em\" class=\"post\" itemscope itemprop=\"blogPost\">\\n          <a href=\"/categories/Nginx/\" title=\"Nginx 相关文章\" itemprop=\"url\" target=\"_blank\">\\n              <time itemprop=\"datePublished\">\\n                  Nginx\\n              </time>\\n              <h1 itemprop=\"name\">Nginx 相关文章</h1>\\n          </a>\\n      </section>\\n  </div>\\n-->\\n</div>\\n\\n<div class=\"archive-title\" id=\"asidepart\">\\n    <!--<div class=\"closeaside\"><a class=\"closebutton\" href=\"#\" title=\"隐藏侧边栏\"></a></div>-->\\n    <aside class=\"clearfix\">\\n        <div id=\"authorInfo\">\\n            <!---->\\n            <!--<div class=\"author-logo\"></div>-->\\n            <!---->\\n\\n             <div class=\"categorieslist\">\\n     <p class=\"asidetitle\">博主【芋艿】在看的课程</p>\\n     <ul>\\n          <li><a target=\"_blank\" href=\"http://blog.didispace.com/Spring-Boot%E5%9F%BA%E7%A1%80%E6%95%99%E7%A8%8B/?utm_term=yudaoyuanma\" style=\"color:#009688\" rel=\"external nofollow noopener noreferrer\">Spring Boot 学习路线</a></li>\\n          <li><a target=\"_blank\" href=\"http://blog.didispace.com/spring-cloud-learning/?utm_term=yudaoyuanma\" style=\"color:#009688\" rel=\"external nofollow noopener noreferrer\">Spring Cloud 学习路线</a></li>\\n\\n        <li><a target=\"_blank\" href=\"/Dubbo/good-collection/?side\" style=\"color:#009688\"><font color=\"red\">【老牛逼了】</font>Dubbo 源码解析系列</a></li>\\n        <li><a target=\"_blank\" href=\"/Netty/Netty-collection/?side\" style=\"color:#009688\"><font color=\"red\"></font>Netty 源码解析系列</a></li>\\n        <li><a target=\"_blank\" href=\"/Spring/good-collection/?side\" style=\"color:#009688\"><font color=\"red\"></font>Spring 源码解析系列</a></li>\\n        <li><a target=\"_blank\" href=\"/Spring-MVC/good-collection/?side\" style=\"color:#009688\"><font color=\"red\"></font>Spring MVC 源码解析系列</a></li>\\n        <li><a target=\"_blank\" href=\"/Spring-Boot/good-collection/?side\" style=\"color:#009688\"><font color=\"red\"></font>Spring Boot 源码解析系列</a></li>\\n\\n        <li><a target=\"_blank\" href=\"/MyBatis/good-collection/?side\" style=\"color:#009688\"><font color=\"red\"></font>MyBatis 源码解析系列</a></li>\\n        <li><a target=\"_blank\" href=\"/Entity/good-collection/?side\" style=\"color:#009688\"><font color=\"red\"></font>数据库实体设计合集</a></li>\\n         <li><a target=\"_blank\" href=\"/Interview/good-collection/?side\" style=\"color:#009688\">Java 面试题</a></li>\\n         <li><a target=\"_blank\" href=\"/Spring-Boot/good-collection/?side\" style=\"color:#009688\">Spring Boot 源码解析系列</a></li>\\n\\n\\n\\n     </ul>\\n\\n<!--\\n    <br />\\n     <div>\\n         <a href=\"https://promotion.aliyun.com/ntms/yunparter/invite.html?source=5176.11533457&userCode=hjwuim5l\">阿里云：ECS 云服务器 2 折起</a>\\n     </div>\\n-->\\n </div>\\n\\n\\n\\n            <div> <img width=\"100%\" src=\"/images/common/wechat_mp_2017_07_31_bak.jpg\"> </div>\\n\\n            <div class=\"social-list\">\\n                \\n                \\n                \\n                \\n                \\n            </div>\\n        </div>\\n        <!---->\\n        <!--<div class=\"categorieslist\">\\n    <p class=\"asidetitle\">微信公众号福利：芋道源码</p>\\n    <ul>\\n\\n        <li> <a href=\"/images/common/wechat_mp_2017_07_31_bak.jpg\"> 0. 阅读源码葵花宝典 </a></li>\\n\\n        <li> <a href=\"/images/common/wechat_mp_2017_07_31_bak.jpg\"> 1. RocketMQ / MyCAT / Sharding-JDBC 详细中文注释源码 </a> </li>\\n\\n        <li> <a href=\"/images/common/wechat_mp_2017_07_31_bak.jpg\"> 2. 您对于源码的疑问每条留言都将得到认真回复 </a> </li>\\n\\n        <li> <a href=\"/images/common/wechat_mp_2017_07_31_bak.jpg\"> 3. 新的源码解析文章实时收到通知，每周六十点更新 </a> </li>\\n\\n        <li> <a href=\"/images/common/wechat_mp_2017_07_31_bak.jpg\">4. 认真的源码交流微信群 </a> </li>\\n\\n\\n    </ul>\\n</div>\\n-->\\n        <!---->\\n        <!--\\n<div class=\"categorieslist\">\\n\\t<p class=\"asidetitle\">分类</p>\\n\\t\\t<ul>\\n\\t\\t\\n            \\n\\t\\t\\t    <li><a href=\"/categories/ActiveMQ/\" title=\"ActiveMQ\">ActiveMQ<sup>2</sup></a></li>\\n            \\n\\t\\t\\n            \\n\\t\\t\\t    <li><a href=\"/categories/Apollo/\" title=\"Apollo\">Apollo<sup>35</sup></a></li>\\n            \\n\\t\\t\\n            \\n\\t\\t\\t    <li><a href=\"/categories/Canal/\" title=\"Canal\">Canal<sup>7</sup></a></li>\\n            \\n\\t\\t\\n            \\n\\t\\t\\t    <li><a href=\"/categories/Elastic-Job-Cloud/\" title=\"Elastic-Job-Cloud\">Elastic-Job-Cloud<sup>6</sup></a></li>\\n            \\n\\t\\t\\n            \\n\\t\\t\\t    <li><a href=\"/categories/Elastic-Job-Lite/\" title=\"Elastic-Job-Lite\">Elastic-Job-Lite<sup>16</sup></a></li>\\n            \\n\\t\\t\\n            \\n\\t\\t\\t    <li><a href=\"/categories/Elasticsearch/\" title=\"Elasticsearch\">Elasticsearch<sup>2</sup></a></li>\\n            \\n\\t\\t\\n            \\n\\t\\t\\t    <li><a href=\"/categories/Eureka/\" title=\"Eureka\">Eureka<sup>23</sup></a></li>\\n            \\n\\t\\t\\n            \\n\\t\\t\\t    <li><a href=\"/categories/Fescar/\" title=\"Fescar\">Fescar<sup>5</sup></a></li>\\n            \\n\\t\\t\\n            \\n\\t\\t\\t    <li><a href=\"/categories/Guava/\" title=\"Guava\">Guava<sup>13</sup></a></li>\\n            \\n\\t\\t\\n            \\n\\t\\t\\t    <li><a href=\"/categories/HikariCP/\" title=\"HikariCP\">HikariCP<sup>21</sup></a></li>\\n            \\n\\t\\t\\n            \\n\\t\\t\\t    <li><a href=\"/categories/Hmily/\" title=\"Hmily\">Hmily<sup>1</sup></a></li>\\n            \\n\\t\\t\\n            \\n\\t\\t\\t    <li><a href=\"/categories/Hystrix/\" title=\"Hystrix\">Hystrix<sup>9</sup></a></li>\\n            \\n\\t\\t\\n            \\n\\t\\t\\t    <li><a href=\"/categories/JDK-源码/\" title=\"JDK 源码\">JDK 源码<sup>5</sup></a></li>\\n            \\n\\t\\t\\n            \\n\\t\\t\\t    <li><a href=\"/categories/JUC/\" title=\"JUC\">JUC<sup>36</sup></a></li>\\n            \\n\\t\\t\\n            \\n\\t\\t\\t    <li><a href=\"/categories/JVM/\" title=\"JVM\">JVM<sup>1</sup></a></li>\\n            \\n\\t\\t\\n            \\n\\t\\t\\t    <li><a href=\"/categories/Java-面试/\" title=\"Java 面试\">Java 面试<sup>12</sup></a></li>\\n            \\n\\t\\t\\n            \\n\\t\\t\\t    <li><a href=\"/categories/Jenkins/\" title=\"Jenkins\">Jenkins<sup>1</sup></a></li>\\n            \\n\\t\\t\\n            \\n\\t\\t\\t    <li><a href=\"/categories/Jetty/\" title=\"Jetty\">Jetty<sup>6</sup></a></li>\\n            \\n\\t\\t\\n            \\n\\t\\t\\t    <li><a href=\"/categories/Kafka/\" title=\"Kafka\">Kafka<sup>26</sup></a></li>\\n            \\n\\t\\t\\n            \\n\\t\\t\\t    <li><a href=\"/categories/MongoDB/\" title=\"MongoDB\">MongoDB<sup>3</sup></a></li>\\n            \\n\\t\\t\\n            \\n\\t\\t\\t    <li><a href=\"/categories/MyBatis/\" title=\"MyBatis\">MyBatis<sup>7</sup></a></li>\\n            \\n\\t\\t\\n            \\n\\t\\t\\t    <li><a href=\"/categories/MyCAT/\" title=\"MyCAT\">MyCAT<sup>9</sup></a></li>\\n            \\n\\t\\t\\n            \\n\\t\\t\\t    <li><a href=\"/categories/Nacos/\" title=\"Nacos\">Nacos<sup>13</sup></a></li>\\n            \\n\\t\\t\\n            \\n\\t\\t\\t    <li><a href=\"/categories/Netty/\" title=\"Netty\">Netty<sup>11</sup></a></li>\\n            \\n\\t\\t\\n            \\n\\t\\t\\t    <li><a href=\"/categories/Nginx/\" title=\"Nginx\">Nginx<sup>3</sup></a></li>\\n            \\n\\t\\t\\n            \\n\\t\\t\\t    <li><a href=\"/categories/Prometheus/\" title=\"Prometheus\">Prometheus<sup>1</sup></a></li>\\n            \\n\\t\\t\\n            \\n\\t\\t\\t    <li><a href=\"/categories/RabbitMQ/\" title=\"RabbitMQ\">RabbitMQ<sup>2</sup></a></li>\\n            \\n\\t\\t\\n            \\n\\t\\t\\t    <li><a href=\"/categories/Resilience4j/\" title=\"Resilience4j\">Resilience4j<sup>10</sup></a></li>\\n            \\n\\t\\t\\n            \\n\\t\\t\\t    <li><a href=\"/categories/Ribbon/\" title=\"Ribbon\">Ribbon<sup>9</sup></a></li>\\n            \\n\\t\\t\\n            \\n\\t\\t\\t    <li><a href=\"/categories/RocketMQ/\" title=\"RocketMQ\">RocketMQ<sup>29</sup></a></li>\\n            \\n\\t\\t\\n            \\n\\t\\t\\t    <li><a href=\"/categories/RxJava/\" title=\"RxJava\">RxJava<sup>7</sup></a></li>\\n            \\n\\t\\t\\n            \\n\\t\\t\\t    <li><a href=\"/categories/SOFA-Mosn/\" title=\"SOFA Mosn\">SOFA Mosn<sup>1</sup></a></li>\\n            \\n\\t\\t\\n            \\n\\t\\t\\t    <li><a href=\"/categories/SOFA-RPC/\" title=\"SOFA RPC\">SOFA RPC<sup>4</sup></a></li>\\n            \\n\\t\\t\\n            \\n\\t\\t\\t    <li><a href=\"/categories/Seata/\" title=\"Seata\">Seata<sup>6</sup></a></li>\\n            \\n\\t\\t\\n            \\n\\t\\t\\t    <li><a href=\"/categories/Sentinel/\" title=\"Sentinel\">Sentinel<sup>17</sup></a></li>\\n            \\n\\t\\t\\n            \\n\\t\\t\\t    <li><a href=\"/categories/Sentry/\" title=\"Sentry\">Sentry<sup>1</sup></a></li>\\n            \\n\\t\\t\\n            \\n\\t\\t\\t    <li><a href=\"/categories/Sharding-Sphere/\" title=\"Sharding Sphere\">Sharding Sphere<sup>6</sup></a></li>\\n            \\n\\t\\t\\n            \\n\\t\\t\\t    <li><a href=\"/categories/Sharding-JDBC/\" title=\"Sharding-JDBC\">Sharding-JDBC<sup>19</sup></a></li>\\n            \\n\\t\\t\\n            \\n\\t\\t\\t    <li><a href=\"/categories/Shiro/\" title=\"Shiro\">Shiro<sup>8</sup></a></li>\\n            \\n\\t\\t\\n            \\n\\t\\t\\t    <li><a href=\"/categories/SkyWalking/\" title=\"SkyWalking\">SkyWalking<sup>41</sup></a></li>\\n            \\n\\t\\t\\n            \\n\\t\\t\\t    <li><a href=\"/categories/Spring/\" title=\"Spring\">Spring<sup>23</sup></a></li>\\n            \\n\\t\\t\\n            \\n\\t\\t\\t    <li><a href=\"/categories/Spring-Boot/\" title=\"Spring Boot\">Spring Boot<sup>81</sup></a></li>\\n            \\n\\t\\t\\n            \\n\\t\\t\\t    <li><a href=\"/categories/Spring-Cloud/\" title=\"Spring Cloud\">Spring Cloud<sup>22</sup></a></li>\\n            \\n\\t\\t\\n            \\n\\t\\t\\n            \\n\\t\\t\\t    <li><a href=\"/categories/Spring-Security/\" title=\"Spring Security\">Spring Security<sup>31</sup></a></li>\\n            \\n\\t\\t\\n            \\n\\t\\t\\t    <li><a href=\"/categories/Spring-Session/\" title=\"Spring Session\">Spring Session<sup>1</sup></a></li>\\n            \\n\\t\\t\\n            \\n\\t\\t\\t    <li><a href=\"/categories/Spring-Webflux/\" title=\"Spring Webflux\">Spring Webflux<sup>8</sup></a></li>\\n            \\n\\t\\t\\n            \\n\\t\\t\\t    <li><a href=\"/categories/Spring-Cloud-Config/\" title=\"Spring-Cloud-Config\">Spring-Cloud-Config<sup>1</sup></a></li>\\n            \\n\\t\\t\\n            \\n\\t\\t\\t    <li><a href=\"/categories/Spring-Cloud-Gateway/\" title=\"Spring-Cloud-Gateway\">Spring-Cloud-Gateway<sup>26</sup></a></li>\\n            \\n\\t\\t\\n            \\n\\t\\t\\t    <li><a href=\"/categories/Spring-MVC/\" title=\"Spring-MVC\">Spring-MVC<sup>13</sup></a></li>\\n            \\n\\t\\t\\n            \\n\\t\\t\\t    <li><a href=\"/categories/TCC-Transaction/\" title=\"TCC-Transaction\">TCC-Transaction<sup>7</sup></a></li>\\n            \\n\\t\\t\\n            \\n\\t\\t\\n            \\n\\t\\t\\t    <li><a href=\"/categories/Tomcat/\" title=\"Tomcat\">Tomcat<sup>18</sup></a></li>\\n            \\n\\t\\t\\n            \\n\\t\\t\\t    <li><a href=\"/categories/XXL-JOB/\" title=\"XXL-JOB\">XXL-JOB<sup>1</sup></a></li>\\n            \\n\\t\\t\\n            \\n\\t\\t\\t    <li><a href=\"/categories/Zipkin/\" title=\"Zipkin\">Zipkin<sup>11</sup></a></li>\\n            \\n\\t\\t\\n            \\n\\t\\t\\t    <li><a href=\"/categories/Zookeeper/\" title=\"Zookeeper\">Zookeeper<sup>1</sup></a></li>\\n            \\n\\t\\t\\n            \\n\\t\\t\\t    <li><a href=\"/categories/Zuul/\" title=\"Zuul\">Zuul<sup>8</sup></a></li>\\n            \\n\\t\\t\\n            \\n\\t\\t\\t    <li><a href=\"/categories/书单/\" title=\"书单\">书单<sup>33</sup></a></li>\\n            \\n\\t\\t\\n            \\n\\t\\t\\t    <li><a href=\"/categories/工作内推/\" title=\"工作内推\">工作内推<sup>3</sup></a></li>\\n            \\n\\t\\t\\n            \\n\\t\\t\\t    <li><a href=\"/categories/性能测试/\" title=\"性能测试\">性能测试<sup>9</sup></a></li>\\n            \\n\\t\\t\\n            \\n\\t\\t\\t    <li><a href=\"/categories/数据结构与算法/\" title=\"数据结构与算法\">数据结构与算法<sup>4</sup></a></li>\\n            \\n\\t\\t\\n            \\n\\t\\t\\t    <li><a href=\"/categories/电商开源项目/\" title=\"电商开源项目\">电商开源项目<sup>2</sup></a></li>\\n            \\n\\t\\t\\n            \\n\\t\\t\\t    <li><a href=\"/categories/精进/\" title=\"精进\">精进<sup>1090</sup></a></li>\\n            \\n\\t\\t\\n            \\n\\t\\t\\t    <li><a href=\"/categories/芋道源码的周八/\" title=\"芋道源码的周八\">芋道源码的周八<sup>19</sup></a></li>\\n            \\n\\t\\t\\n            \\n\\t\\t\\t    <li><a href=\"/categories/设计模式/\" title=\"设计模式\">设计模式<sup>25</sup></a></li>\\n            \\n\\t\\t\\n            \\n\\t\\t\\t    <li><a href=\"/categories/鸡汤/\" title=\"鸡汤\">鸡汤<sup>6</sup></a></li>\\n            \\n\\t\\t\\n\\t\\t</ul>\\n</div>\\n-->\\n        <!---->\\n        <div class=\"categorieslist\">\\n    <p class=\"asidetitle\">微信公众号福利：芋道源码</p>\\n    <ul>\\n\\n        <li> <a href=\"/images/common/wechat_mp_2017_07_31_bak.jpg\"> 0. 阅读源码葵花宝典 </a></li>\\n\\n        <li> <a href=\"/images/common/wechat_mp_2017_07_31_bak.jpg\"> 1. RocketMQ / MyCAT / Sharding-JDBC 详细中文注释源码 </a> </li>\\n\\n        <li> <a href=\"/images/common/wechat_mp_2017_07_31_bak.jpg\"> 2. 您对于源码的疑问每条留言都将得到认真回复 </a> </li>\\n\\n        <li> <a href=\"/images/common/wechat_mp_2017_07_31_bak.jpg\"> 3. 新的源码解析文章实时收到通知，每周六十点更新 </a> </li>\\n\\n        <li> <a href=\"/images/common/wechat_mp_2017_07_31_bak.jpg\">4. 认真的源码交流微信群 </a> </li>\\n\\n\\n    </ul>\\n</div>\\n\\n\\n        <div id=\"authorInfo2\">\\n\\n            <div> <img width=\"100%\" src=\"/images/common/zsxq/02.png\"> </div>\\n\\n        </div>\\n\\n\\n    </aside>\\n</div>\\n\\n\\n  </div>\\n  <footer><div id=\"footer\">\\n    <img src=\"http://www.iocoder.cn/images/common/wechat_mp_simple.png\" style=\"display: none\">\\n    \\n            <p class=\"copyright\"> © 2020 \\n\\t\\t\\n\\t\\t<a href=\"http://www.iocoder.cn\" target=\"_blank\" title=\"芋道源码\">芋道源码</a>\\n\\t\\t\\n            && <span style=\"display: inline;\" id=\"busuanzi_container_site_uv\">总访客数 <span id=\"busuanzi_value_site_uv\" font=\"微软雅黑\"></span> 次</span>\\n            && <span style=\"display: inline;\" id=\"busuanzi_container_site_pv\">总访问量 <span id=\"busuanzi_value_site_pv\" font=\"微软雅黑\"></span> 次</span>\\n            && Hosted by <a href=\"https://pages.coding.me\" style=\"font-weight: bold\" rel=\"external nofollow noopener noreferrer\" target=\"_blank\">Coding Pages</a>\\n            <!--&& Powered by <a href=\"http://hexo.io\" target=\"_blank\" title=\"hexo\">hexo</a> && Theme by <a href=\"http://gengbiao.me\" target=\"_blank\" title=\"coney\">coney</a>-->\\n            </p></div>\\n            <div class=\"copyright\">沪ICP备17037075号-1</div>\\n</footer>\\n    <script type=\"text/javascript\">\\n$(document).ready(function(){\\n  $(\\'.navbar\\').click(function(){\\n    $(\\'header nav\\').toggleClass(\\'shownav\\');\\n  });\\n  var myWidth = 0;\\n  function getSize(){\\n    if( typeof( window.innerWidth ) == \\'number\\' ) {\\n      myWidth = window.innerWidth;\\n    } else if( document.documentElement && document.documentElement.clientWidth) {\\n      myWidth = document.documentElement.clientWidth;\\n    };\\n  };\\n  var m = $(\\'#main\\'),\\n      a = $(\\'#asidepart\\'),\\n      c = $(\\'.closeaside\\'),\\n      o = $(\\'.openaside\\');\\n  $(window).resize(function(){\\n    getSize();\\n    if (myWidth >= 1024) {\\n      $(\\'header nav\\').removeClass(\\'shownav\\');\\n    }else\\n    {\\n      m.removeClass(\\'moveMain\\');\\n      a.css(\\'display\\', \\'block\\').removeClass(\\'fadeOut\\');\\n      o.css(\\'display\\', \\'none\\');\\n      \\n    }\\n  });\\n  c.click(function(){\\n    a.addClass(\\'fadeOut\\').css(\\'display\\', \\'none\\');\\n    o.css(\\'display\\', \\'block\\').addClass(\\'fadeIn\\');\\n    m.addClass(\\'moveMain\\');\\n  });\\n  o.click(function(){\\n    o.css(\\'display\\', \\'none\\').removeClass(\\'beforeFadeIn\\');\\n    a.css(\\'display\\', \\'block\\').removeClass(\\'fadeOut\\').addClass(\\'fadeIn\\');\\n    m.removeClass(\\'moveMain\\');\\n  });\\n  $(window).scroll(function(){\\n    o.css(\"top\",Math.max(80,260-$(this).scrollTop()));\\n  });\\n});\\n</script>\\n\\n\\n\\n\\n\\n\\n\\n\\n<script src=\"/js/util.js?v=2020-04-01-0943\"></script>\\n\\n\\n\\n\\n\\n\\n<script type=\"text/javascript\">\\n(function(i,s,o,g,r,a,m){i[\\'GoogleAnalyticsObject\\']=r;i[r]=i[r]||function(){\\n  (i[r].q=i[r].q||[]).push(arguments)},i[r].l=1*new Date();a=s.createElement(o),\\n  m=s.getElementsByTagName(o)[0];a.async=1;a.src=g;m.parentNode.insertBefore(a,m)\\n})(window,document,\\'script\\',\\'//www.google-analytics.com/analytics.js\\',\\'ga\\');\\nga(\\'create\\', \\'UA-107572620-1\\', \\'auto\\');  \\nga(\\'send\\', \\'pageview\\');\\n</script>\\n\\n\\n  </body>\\n \\n\\n'"
      ]
     },
     "execution_count": 12,
     "metadata": {},
     "output_type": "execute_result"
    }
   ],
   "source": [
    "r = requests.get(\"https://url.cn/5RD9goZ\")\n",
    "r.encoding ='utf-8'\n",
    "r.text"
   ]
  },
  {
   "cell_type": "code",
   "execution_count": 23,
   "metadata": {},
   "outputs": [
    {
     "name": "stdout",
     "output_type": "stream",
     "text": [
      "406\n"
     ]
    }
   ],
   "source": [
    "r = requests.get(\"http://www.secretsanon.com\")\n",
    "print(r.status_code)"
   ]
  },
  {
   "cell_type": "code",
   "execution_count": 14,
   "metadata": {},
   "outputs": [],
   "source": [
    "def get(url, params= None, **kwargs):\n",
    "    \"\"\"\n",
    "    Sends a GET request.\n",
    "    \n",
    "    :param url: URL for the new :class: 'Request' object.\n",
    "    :param params: (opational) Dictionary or bytes to be sent in the query string for the \n",
    "    :param \\*\\*kwargs: Optional arguments that \"request\" takes.\n",
    "    :return: :class: 'Response<Response>' object\n",
    "    :type: requests.Response\n",
    "    \n",
    "    \"\"\"\n",
    "    \n",
    "    kwargs.setdefault('allow_redirects', True)\n",
    "    return request('get', url, params=params, **kwargs)"
   ]
  },
  {
   "cell_type": "code",
   "execution_count": 21,
   "metadata": {},
   "outputs": [
    {
     "name": "stdout",
     "output_type": "stream",
     "text": [
      "200\n"
     ]
    }
   ],
   "source": [
    "r = requests.get(\"http://www.baidu.com\")\n",
    "print(r.status_code)\n",
    "# 2O0 means successul visit request"
   ]
  },
  {
   "cell_type": "code",
   "execution_count": 18,
   "metadata": {},
   "outputs": [
    {
     "data": {
      "text/plain": [
       "requests.models.Response"
      ]
     },
     "execution_count": 18,
     "metadata": {},
     "output_type": "execute_result"
    }
   ],
   "source": [
    "type(r)"
   ]
  },
  {
   "cell_type": "code",
   "execution_count": 19,
   "metadata": {},
   "outputs": [
    {
     "data": {
      "text/plain": [
       "{'Cache-Control': 'private, no-cache, no-store, proxy-revalidate, no-transform', 'Connection': 'Keep-Alive', 'Content-Encoding': 'gzip', 'Content-Type': 'text/html', 'Date': 'Tue, 21 Apr 2020 07:54:25 GMT', 'Last-Modified': 'Mon, 23 Jan 2017 13:28:11 GMT', 'Pragma': 'no-cache', 'Server': 'bfe/1.0.8.18', 'Set-Cookie': 'BDORZ=27315; max-age=86400; domain=.baidu.com; path=/', 'Transfer-Encoding': 'chunked'}"
      ]
     },
     "execution_count": 19,
     "metadata": {},
     "output_type": "execute_result"
    }
   ],
   "source": [
    "r.headers"
   ]
  },
  {
   "cell_type": "markdown",
   "metadata": {},
   "source": []
  },
  {
   "cell_type": "code",
   "execution_count": null,
   "metadata": {},
   "outputs": [],
   "source": []
  },
  {
   "cell_type": "code",
   "execution_count": 31,
   "metadata": {},
   "outputs": [],
   "source": [
    "r = requests.get(\"http://www.baidu.com\")"
   ]
  },
  {
   "cell_type": "code",
   "execution_count": 32,
   "metadata": {},
   "outputs": [
    {
     "data": {
      "text/plain": [
       "200"
      ]
     },
     "execution_count": 32,
     "metadata": {},
     "output_type": "execute_result"
    }
   ],
   "source": [
    "r.status_code"
   ]
  },
  {
   "cell_type": "code",
   "execution_count": 33,
   "metadata": {},
   "outputs": [
    {
     "data": {
      "text/plain": [
       "'<!DOCTYPE html>\\r\\n<!--STATUS OK--><html> <head><meta http-equiv=content-type content=text/html;charset=utf-8><meta http-equiv=X-UA-Compatible content=IE=Edge><meta content=always name=referrer><link rel=stylesheet type=text/css href=http://s1.bdstatic.com/r/www/cache/bdorz/baidu.min.css><title>ç\\x99¾åº¦ä¸\\x80ä¸\\x8bï¼\\x8cä½\\xa0å°±ç\\x9f¥é\\x81\\x93</title></head> <body link=#0000cc> <div id=wrapper> <div id=head> <div class=head_wrapper> <div class=s_form> <div class=s_form_wrapper> <div id=lg> <img hidefocus=true src=//www.baidu.com/img/bd_logo1.png width=270 height=129> </div> <form id=form name=f action=//www.baidu.com/s class=fm> <input type=hidden name=bdorz_come value=1> <input type=hidden name=ie value=utf-8> <input type=hidden name=f value=8> <input type=hidden name=rsv_bp value=1> <input type=hidden name=rsv_idx value=1> <input type=hidden name=tn value=baidu><span class=\"bg s_ipt_wr\"><input id=kw name=wd class=s_ipt value maxlength=255 autocomplete=off autofocus></span><span class=\"bg s_btn_wr\"><input type=submit id=su value=ç\\x99¾åº¦ä¸\\x80ä¸\\x8b class=\"bg s_btn\"></span> </form> </div> </div> <div id=u1> <a href=http://news.baidu.com name=tj_trnews class=mnav>æ\\x96°é\\x97»</a> <a href=http://www.hao123.com name=tj_trhao123 class=mnav>hao123</a> <a href=http://map.baidu.com name=tj_trmap class=mnav>å\\x9c°å\\x9b¾</a> <a href=http://v.baidu.com name=tj_trvideo class=mnav>è§\\x86é¢\\x91</a> <a href=http://tieba.baidu.com name=tj_trtieba class=mnav>è´´å\\x90§</a> <noscript> <a href=http://www.baidu.com/bdorz/login.gif?login&amp;tpl=mn&amp;u=http%3A%2F%2Fwww.baidu.com%2f%3fbdorz_come%3d1 name=tj_login class=lb>ç\\x99»å½\\x95</a> </noscript> <script>document.write(\\'<a href=\"http://www.baidu.com/bdorz/login.gif?login&tpl=mn&u=\\'+ encodeURIComponent(window.location.href+ (window.location.search === \"\" ? \"?\" : \"&\")+ \"bdorz_come=1\")+ \\'\" name=\"tj_login\" class=\"lb\">ç\\x99»å½\\x95</a>\\');</script> <a href=//www.baidu.com/more/ name=tj_briicon class=bri style=\"display: block;\">æ\\x9b´å¤\\x9aäº§å\\x93\\x81</a> </div> </div> </div> <div id=ftCon> <div id=ftConw> <p id=lh> <a href=http://home.baidu.com>å\\x85³äº\\x8eç\\x99¾åº¦</a> <a href=http://ir.baidu.com>About Baidu</a> </p> <p id=cp>&copy;2017&nbsp;Baidu&nbsp;<a href=http://www.baidu.com/duty/>ä½¿ç\\x94¨ç\\x99¾åº¦å\\x89\\x8då¿\\x85è¯»</a>&nbsp; <a href=http://jianyi.baidu.com/ class=cp-feedback>æ\\x84\\x8fè§\\x81å\\x8f\\x8dé¦\\x88</a>&nbsp;äº¬ICPè¯\\x81030173å\\x8f·&nbsp; <img src=//www.baidu.com/img/gs.gif> </p> </div> </div> </div> </body> </html>\\r\\n'"
      ]
     },
     "execution_count": 33,
     "metadata": {},
     "output_type": "execute_result"
    }
   ],
   "source": [
    "r.text"
   ]
  },
  {
   "cell_type": "code",
   "execution_count": 34,
   "metadata": {},
   "outputs": [
    {
     "data": {
      "text/plain": [
       "'ISO-8859-1'"
      ]
     },
     "execution_count": 34,
     "metadata": {},
     "output_type": "execute_result"
    }
   ],
   "source": [
    "r.encoding"
   ]
  },
  {
   "cell_type": "code",
   "execution_count": 35,
   "metadata": {},
   "outputs": [
    {
     "data": {
      "text/plain": [
       "'utf-8'"
      ]
     },
     "execution_count": 35,
     "metadata": {},
     "output_type": "execute_result"
    }
   ],
   "source": [
    "r.apparent_encoding"
   ]
  },
  {
   "cell_type": "code",
   "execution_count": 36,
   "metadata": {},
   "outputs": [],
   "source": [
    "r.encoding = 'utf-8'"
   ]
  },
  {
   "cell_type": "code",
   "execution_count": 37,
   "metadata": {},
   "outputs": [
    {
     "data": {
      "text/plain": [
       "'<!DOCTYPE html>\\r\\n<!--STATUS OK--><html> <head><meta http-equiv=content-type content=text/html;charset=utf-8><meta http-equiv=X-UA-Compatible content=IE=Edge><meta content=always name=referrer><link rel=stylesheet type=text/css href=http://s1.bdstatic.com/r/www/cache/bdorz/baidu.min.css><title>百度一下，你就知道</title></head> <body link=#0000cc> <div id=wrapper> <div id=head> <div class=head_wrapper> <div class=s_form> <div class=s_form_wrapper> <div id=lg> <img hidefocus=true src=//www.baidu.com/img/bd_logo1.png width=270 height=129> </div> <form id=form name=f action=//www.baidu.com/s class=fm> <input type=hidden name=bdorz_come value=1> <input type=hidden name=ie value=utf-8> <input type=hidden name=f value=8> <input type=hidden name=rsv_bp value=1> <input type=hidden name=rsv_idx value=1> <input type=hidden name=tn value=baidu><span class=\"bg s_ipt_wr\"><input id=kw name=wd class=s_ipt value maxlength=255 autocomplete=off autofocus></span><span class=\"bg s_btn_wr\"><input type=submit id=su value=百度一下 class=\"bg s_btn\"></span> </form> </div> </div> <div id=u1> <a href=http://news.baidu.com name=tj_trnews class=mnav>新闻</a> <a href=http://www.hao123.com name=tj_trhao123 class=mnav>hao123</a> <a href=http://map.baidu.com name=tj_trmap class=mnav>地图</a> <a href=http://v.baidu.com name=tj_trvideo class=mnav>视频</a> <a href=http://tieba.baidu.com name=tj_trtieba class=mnav>贴吧</a> <noscript> <a href=http://www.baidu.com/bdorz/login.gif?login&amp;tpl=mn&amp;u=http%3A%2F%2Fwww.baidu.com%2f%3fbdorz_come%3d1 name=tj_login class=lb>登录</a> </noscript> <script>document.write(\\'<a href=\"http://www.baidu.com/bdorz/login.gif?login&tpl=mn&u=\\'+ encodeURIComponent(window.location.href+ (window.location.search === \"\" ? \"?\" : \"&\")+ \"bdorz_come=1\")+ \\'\" name=\"tj_login\" class=\"lb\">登录</a>\\');</script> <a href=//www.baidu.com/more/ name=tj_briicon class=bri style=\"display: block;\">更多产品</a> </div> </div> </div> <div id=ftCon> <div id=ftConw> <p id=lh> <a href=http://home.baidu.com>关于百度</a> <a href=http://ir.baidu.com>About Baidu</a> </p> <p id=cp>&copy;2017&nbsp;Baidu&nbsp;<a href=http://www.baidu.com/duty/>使用百度前必读</a>&nbsp; <a href=http://jianyi.baidu.com/ class=cp-feedback>意见反馈</a>&nbsp;京ICP证030173号&nbsp; <img src=//www.baidu.com/img/gs.gif> </p> </div> </div> </div> </body> </html>\\r\\n'"
      ]
     },
     "execution_count": 37,
     "metadata": {},
     "output_type": "execute_result"
    }
   ],
   "source": [
    "r.text"
   ]
  },
  {
   "cell_type": "code",
   "execution_count": null,
   "metadata": {},
   "outputs": [],
   "source": []
  },
  {
   "cell_type": "markdown",
   "metadata": {},
   "source": [
    "### P6"
   ]
  },
  {
   "cell_type": "code",
   "execution_count": 39,
   "metadata": {},
   "outputs": [],
   "source": [
    "import requests\n",
    "\n",
    "def getHTMLText(url):\n",
    "    try:\n",
    "        r = requests.get(url, timeout=30)\n",
    "        r.raise_for_status() #If the status is not 200, HTTPError occurs.\n",
    "        r.encoding = r.apparent_encoding\n",
    "        return r.text\n",
    "    except: \n",
    "        return \"产生异常\""
   ]
  },
  {
   "cell_type": "code",
   "execution_count": 40,
   "metadata": {},
   "outputs": [
    {
     "name": "stdout",
     "output_type": "stream",
     "text": [
      "<!DOCTYPE html>\r\n",
      "<!--STATUS OK--><html> <head><meta http-equiv=content-type content=text/html;charset=utf-8><meta http-equiv=X-UA-Compatible content=IE=Edge><meta content=always name=referrer><link rel=stylesheet type=text/css href=http://s1.bdstatic.com/r/www/cache/bdorz/baidu.min.css><title>百度一下，你就知道</title></head> <body link=#0000cc> <div id=wrapper> <div id=head> <div class=head_wrapper> <div class=s_form> <div class=s_form_wrapper> <div id=lg> <img hidefocus=true src=//www.baidu.com/img/bd_logo1.png width=270 height=129> </div> <form id=form name=f action=//www.baidu.com/s class=fm> <input type=hidden name=bdorz_come value=1> <input type=hidden name=ie value=utf-8> <input type=hidden name=f value=8> <input type=hidden name=rsv_bp value=1> <input type=hidden name=rsv_idx value=1> <input type=hidden name=tn value=baidu><span class=\"bg s_ipt_wr\"><input id=kw name=wd class=s_ipt value maxlength=255 autocomplete=off autofocus></span><span class=\"bg s_btn_wr\"><input type=submit id=su value=百度一下 class=\"bg s_btn\"></span> </form> </div> </div> <div id=u1> <a href=http://news.baidu.com name=tj_trnews class=mnav>新闻</a> <a href=http://www.hao123.com name=tj_trhao123 class=mnav>hao123</a> <a href=http://map.baidu.com name=tj_trmap class=mnav>地图</a> <a href=http://v.baidu.com name=tj_trvideo class=mnav>视频</a> <a href=http://tieba.baidu.com name=tj_trtieba class=mnav>贴吧</a> <noscript> <a href=http://www.baidu.com/bdorz/login.gif?login&amp;tpl=mn&amp;u=http%3A%2F%2Fwww.baidu.com%2f%3fbdorz_come%3d1 name=tj_login class=lb>登录</a> </noscript> <script>document.write('<a href=\"http://www.baidu.com/bdorz/login.gif?login&tpl=mn&u='+ encodeURIComponent(window.location.href+ (window.location.search === \"\" ? \"?\" : \"&\")+ \"bdorz_come=1\")+ '\" name=\"tj_login\" class=\"lb\">登录</a>');</script> <a href=//www.baidu.com/more/ name=tj_briicon class=bri style=\"display: block;\">更多产品</a> </div> </div> </div> <div id=ftCon> <div id=ftConw> <p id=lh> <a href=http://home.baidu.com>关于百度</a> <a href=http://ir.baidu.com>About Baidu</a> </p> <p id=cp>&copy;2017&nbsp;Baidu&nbsp;<a href=http://www.baidu.com/duty/>使用百度前必读</a>&nbsp; <a href=http://jianyi.baidu.com/ class=cp-feedback>意见反馈</a>&nbsp;京ICP证030173号&nbsp; <img src=//www.baidu.com/img/gs.gif> </p> </div> </div> </div> </body> </html>\r\n",
      "\n"
     ]
    }
   ],
   "source": [
    "    \n",
    "if __name__ == \"__main__\":\n",
    "    url = \"http://www.baidu.com\"\n",
    "    print(getHTMLText(url))"
   ]
  },
  {
   "cell_type": "code",
   "execution_count": 41,
   "metadata": {},
   "outputs": [
    {
     "name": "stdout",
     "output_type": "stream",
     "text": [
      "产生异常\n"
     ]
    }
   ],
   "source": [
    "    \n",
    "if __name__ == \"__main__\":\n",
    "    url = \"www.baidu.com\"\n",
    "    print(getHTMLText(url))"
   ]
  },
  {
   "cell_type": "code",
   "execution_count": null,
   "metadata": {},
   "outputs": [],
   "source": []
  },
  {
   "cell_type": "code",
   "execution_count": null,
   "metadata": {},
   "outputs": [],
   "source": []
  },
  {
   "cell_type": "code",
   "execution_count": null,
   "metadata": {},
   "outputs": [],
   "source": []
  },
  {
   "cell_type": "code",
   "execution_count": null,
   "metadata": {},
   "outputs": [],
   "source": []
  },
  {
   "cell_type": "code",
   "execution_count": null,
   "metadata": {},
   "outputs": [],
   "source": []
  },
  {
   "cell_type": "code",
   "execution_count": null,
   "metadata": {},
   "outputs": [],
   "source": []
  },
  {
   "cell_type": "code",
   "execution_count": null,
   "metadata": {},
   "outputs": [],
   "source": []
  },
  {
   "cell_type": "code",
   "execution_count": null,
   "metadata": {},
   "outputs": [],
   "source": []
  },
  {
   "cell_type": "code",
   "execution_count": null,
   "metadata": {},
   "outputs": [],
   "source": []
  },
  {
   "cell_type": "code",
   "execution_count": null,
   "metadata": {},
   "outputs": [],
   "source": []
  },
  {
   "cell_type": "code",
   "execution_count": null,
   "metadata": {},
   "outputs": [],
   "source": []
  },
  {
   "cell_type": "code",
   "execution_count": null,
   "metadata": {},
   "outputs": [],
   "source": []
  },
  {
   "cell_type": "code",
   "execution_count": null,
   "metadata": {},
   "outputs": [],
   "source": []
  },
  {
   "cell_type": "code",
   "execution_count": null,
   "metadata": {},
   "outputs": [],
   "source": []
  },
  {
   "cell_type": "code",
   "execution_count": null,
   "metadata": {},
   "outputs": [],
   "source": []
  },
  {
   "cell_type": "code",
   "execution_count": null,
   "metadata": {},
   "outputs": [],
   "source": []
  },
  {
   "cell_type": "code",
   "execution_count": null,
   "metadata": {},
   "outputs": [],
   "source": []
  },
  {
   "cell_type": "code",
   "execution_count": null,
   "metadata": {},
   "outputs": [],
   "source": []
  },
  {
   "cell_type": "code",
   "execution_count": null,
   "metadata": {},
   "outputs": [],
   "source": []
  },
  {
   "cell_type": "code",
   "execution_count": null,
   "metadata": {},
   "outputs": [],
   "source": []
  },
  {
   "cell_type": "code",
   "execution_count": null,
   "metadata": {},
   "outputs": [],
   "source": []
  },
  {
   "cell_type": "code",
   "execution_count": null,
   "metadata": {},
   "outputs": [],
   "source": []
  },
  {
   "cell_type": "code",
   "execution_count": null,
   "metadata": {},
   "outputs": [],
   "source": []
  }
 ],
 "metadata": {
  "kernelspec": {
   "display_name": "Python 3",
   "language": "python",
   "name": "python3"
  },
  "language_info": {
   "codemirror_mode": {
    "name": "ipython",
    "version": 3
   },
   "file_extension": ".py",
   "mimetype": "text/x-python",
   "name": "python",
   "nbconvert_exporter": "python",
   "pygments_lexer": "ipython3",
   "version": "3.7.3"
  },
  "toc": {
   "base_numbering": 1,
   "nav_menu": {},
   "number_sections": true,
   "sideBar": true,
   "skip_h1_title": false,
   "title_cell": "Table of Contents",
   "title_sidebar": "Contents",
   "toc_cell": false,
   "toc_position": {},
   "toc_section_display": true,
   "toc_window_display": false
  }
 },
 "nbformat": 4,
 "nbformat_minor": 2
}
